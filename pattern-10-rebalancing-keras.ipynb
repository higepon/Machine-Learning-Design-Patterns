{
 "cells": [
  {
   "cell_type": "code",
   "execution_count": 166,
   "metadata": {},
   "outputs": [],
   "source": [
    "# Based on https://github.com/GoogleCloudPlatform/ml-design-patterns/blob/master/03_problem_representation/rebalancing.ipynb.\n",
    "#   !gsutil cp gs://ml-design-patterns/fraud_data_kaggle.csv .\n",
    "\n",
    "import xgboost as xgb\n",
    "import pandas as pd\n",
    "import numpy as np\n",
    "import itertools\n",
    "import matplotlib.pyplot as plt\n",
    "from sklearn.metrics import confusion_matrix\n",
    "from sklearn.metrics import f1_score, recall_score, precision_score, accuracy_score\n",
    "from sklearn.preprocessing import StandardScaler\n",
    "from sklearn.model_selection import train_test_split\n",
    "from sklearn.utils import shuffle\n",
    "import tensorflow as tf\n",
    "from tensorflow import keras"
   ]
  },
  {
   "cell_type": "code",
   "execution_count": 167,
   "metadata": {},
   "outputs": [],
   "source": [
    "SEED = 42\n",
    "NROWS = None\n",
    "\n",
    "def process_data(df: pd.DataFrame) -> pd.DataFrame:\n",
    "    df.drop(columns=['nameOrig', 'nameDest', 'isFlaggedFraud'], inplace=True)\n",
    "    df = pd.get_dummies(df)\n",
    "\n",
    "    target = df.isFraud\n",
    "    df = df.drop(columns=['isFraud'])\n",
    "    sc = StandardScaler()    \n",
    "    df[df.columns] = sc.fit_transform(df)\n",
    "    df['isFraud'] = target\n",
    "    return df\n",
    "\n",
    "def fraud_rate_df(df: pd.DataFrame) -> float:\n",
    "    fraud_df = df[df['isFraud'] == 1]\n",
    "    return len(fraud_df)/len(df)\n",
    "\n",
    "def fraud_rate(y) -> float:\n",
    "    fraud_indices = np.where(y == 1)[0]\n",
    "    return len(fraud_indices) / len(y) # type: ignore\n",
    "\n",
    "def train_split(df: pd.DataFrame):\n",
    "    y = df.isFraud.values\n",
    "    X_train, X_test, _, y_test = train_test_split(df, y, stratify=y, test_size=0.2, random_state=SEED)\n",
    "    train_df = pd.DataFrame(data=X_train, columns=df.columns)\n",
    "    X_test.drop(columns=['isFraud'], inplace=True) # type: ignore\n",
    "    return train_df, X_test, y_test\n",
    "\n",
    "# This is from the sklearn docs\n",
    "# https://scikit-learn.org/0.18/auto_examples/model_selection/plot_confusion_matrix.html\n",
    "def plot_confusion_matrix(cm, classes,\n",
    "                          normalize=False,\n",
    "                          title='Confusion matrix',\n",
    "                          cmap=plt.cm.Blues):\n",
    "    \"\"\"\n",
    "    This function prints and plots the confusion matrix.\n",
    "    \"\"\"\n",
    "    if normalize:\n",
    "        # cm = np.round(cm.astype('float') / cm.sum(axis=1)[:, np.newaxis], 3)\n",
    "        cm = cm / cm.sum(axis=1, keepdims=True)\n",
    "\n",
    "    plt.imshow(cm, interpolation='nearest', cmap=cmap)\n",
    "    plt.title(title)\n",
    "    plt.colorbar()\n",
    "    tick_marks = np.arange(len(classes))\n",
    "    plt.xticks(tick_marks, classes, rotation=45)\n",
    "    plt.yticks(tick_marks, classes)\n",
    "\n",
    "    thresh = cm.max() / 2.\n",
    "\n",
    "    for i, j in itertools.product(range(cm.shape[0]), range(cm.shape[1])):\n",
    "        plt.text(j, i, f'{cm[i, j]:.3f}',\n",
    "                 horizontalalignment=\"center\",\n",
    "                 color=\"white\" if cm[i, j] > thresh else \"black\")                 \n",
    "\n",
    "    plt.tight_layout()  \n",
    "    plt.ylabel('True label')\n",
    "    plt.xlabel('Predicted label')\n",
    "\n",
    "def train_and_eval(df: pd.DataFrame, should_down_sample: bool=False, frac: float=1.0, use_class_weight=False, initialize_bias=False):\n",
    "\n",
    "    train_df, X_test, y_test = train_split(df)\n",
    "\n",
    "    # down_sample\n",
    "    if should_down_sample:\n",
    "        print(f\"Down sample train {frac}\")\n",
    "        fraud = train_df[train_df['isFraud'] == 1]\n",
    "        not_fraud = train_df[train_df['isFraud'] == 0]\n",
    "        not_fraud_sample = not_fraud.sample(random_state=SEED, frac=frac)\n",
    "        train_df = pd.concat([not_fraud_sample,fraud])\n",
    "        train_df = shuffle(train_df, random_state=SEED)    \n",
    "    else:\n",
    "        print(\"Original train\")\n",
    "\n",
    "    X_train = train_df.drop(columns=['isFraud']).values\n",
    "    y_train = train_df.isFraud.values\n",
    "\n",
    "    print(f'Fraud Rate in (all, train, test)=({fraud_rate_df(df):.5f}, {fraud_rate(y_train):.5f}, {fraud_rate(y_test):.5f})')\n",
    "\n",
    "    if use_class_weight:\n",
    "        minor_weight = 1 / fraud_rate(y_train) / 2\n",
    "        major_weight = 1 / (1 - fraud_rate(y_train)) / 2\n",
    "        class_weight = {1: minor_weight, 0: major_weight}\n",
    "    else:\n",
    "        class_weight = None\n",
    "\n",
    "    if initialize_bias:\n",
    "        model = keras.Sequential([\n",
    "            keras.layers.Dense(10, input_dim=X_train.shape[1], kernel_initializer='normal', activation='relu'),\n",
    "            keras.layers.Dense(1, activation='sigmoid')\n",
    "        ])    \n",
    "    else:\n",
    "        len_minority = len(train_df[train_df['isFraud'] == 1])\n",
    "        len_majority = len(train_df[train_df['isFraud'] == 0])        \n",
    "        bias_value = np.log(len_minority / len_majority)\n",
    "        model = keras.Sequential([\n",
    "            keras.layers.Dense(10, input_dim=X_train.shape[1], kernel_initializer='normal', activation='relu'),\n",
    "            keras.layers.Dense(1, activation='sigmoid', bias_initializer=keras.initializers.Constant(value=bias_value))\n",
    "        ])    \n",
    "\n",
    "    model.compile(loss='binary_crossentropy', optimizer='adam', metrics=['accuracy'])    \n",
    "    model.fit(X_train, y_train, epochs=2, batch_size=512, verbose=0, class_weight=class_weight)\n",
    "\n",
    "    y_pred = model.predict(X_test)\n",
    "    y_pred = y_pred >= 0.5\n",
    "    y_pred = y_pred.reshape(-1).astype(int)\n",
    "    print(f'label={y_test} pred={y_pred}')\n",
    "    print(f'accuracy_score: {accuracy_score(y_test, y_pred):.4f}')    \n",
    "    print(f'precision_score: {precision_score(y_test, y_pred):.4f}')\n",
    "    print(f'recall_score: {recall_score(y_test, y_pred):.4f}')    \n",
    "    print(f'f1_score: {f1_score(y_test, y_pred):.4f}')\n",
    "    cm = confusion_matrix(y_test, y_pred)\n",
    "    print(f'cm={cm}')\n",
    "\n",
    "    classes = ['not fraud', 'fraud']    \n",
    "    plot_confusion_matrix(cm, classes, normalize=True)"
   ]
  },
  {
   "cell_type": "code",
   "execution_count": 168,
   "metadata": {},
   "outputs": [
    {
     "data": {
      "text/html": [
       "<div>\n",
       "<style scoped>\n",
       "    .dataframe tbody tr th:only-of-type {\n",
       "        vertical-align: middle;\n",
       "    }\n",
       "\n",
       "    .dataframe tbody tr th {\n",
       "        vertical-align: top;\n",
       "    }\n",
       "\n",
       "    .dataframe thead th {\n",
       "        text-align: right;\n",
       "    }\n",
       "</style>\n",
       "<table border=\"1\" class=\"dataframe\">\n",
       "  <thead>\n",
       "    <tr style=\"text-align: right;\">\n",
       "      <th></th>\n",
       "      <th>step</th>\n",
       "      <th>amount</th>\n",
       "      <th>oldbalanceOrg</th>\n",
       "      <th>newbalanceOrig</th>\n",
       "      <th>oldbalanceDest</th>\n",
       "      <th>newbalanceDest</th>\n",
       "      <th>type_CASH_IN</th>\n",
       "      <th>type_CASH_OUT</th>\n",
       "      <th>type_DEBIT</th>\n",
       "      <th>type_PAYMENT</th>\n",
       "      <th>type_TRANSFER</th>\n",
       "      <th>isFraud</th>\n",
       "    </tr>\n",
       "  </thead>\n",
       "  <tbody>\n",
       "    <tr>\n",
       "      <th>0</th>\n",
       "      <td>-1.703042</td>\n",
       "      <td>-0.281560</td>\n",
       "      <td>-0.229810</td>\n",
       "      <td>-0.237622</td>\n",
       "      <td>-0.323814</td>\n",
       "      <td>-0.333411</td>\n",
       "      <td>-0.530965</td>\n",
       "      <td>-0.736484</td>\n",
       "      <td>-0.08096</td>\n",
       "      <td>1.399036</td>\n",
       "      <td>-0.302345</td>\n",
       "      <td>0</td>\n",
       "    </tr>\n",
       "    <tr>\n",
       "      <th>1</th>\n",
       "      <td>-1.703042</td>\n",
       "      <td>-0.294767</td>\n",
       "      <td>-0.281359</td>\n",
       "      <td>-0.285812</td>\n",
       "      <td>-0.323814</td>\n",
       "      <td>-0.333411</td>\n",
       "      <td>-0.530965</td>\n",
       "      <td>-0.736484</td>\n",
       "      <td>-0.08096</td>\n",
       "      <td>1.399036</td>\n",
       "      <td>-0.302345</td>\n",
       "      <td>0</td>\n",
       "    </tr>\n",
       "    <tr>\n",
       "      <th>2</th>\n",
       "      <td>-1.703042</td>\n",
       "      <td>-0.297555</td>\n",
       "      <td>-0.288654</td>\n",
       "      <td>-0.292442</td>\n",
       "      <td>-0.323814</td>\n",
       "      <td>-0.333411</td>\n",
       "      <td>-0.530965</td>\n",
       "      <td>-0.736484</td>\n",
       "      <td>-0.08096</td>\n",
       "      <td>-0.714778</td>\n",
       "      <td>3.307478</td>\n",
       "      <td>1</td>\n",
       "    </tr>\n",
       "    <tr>\n",
       "      <th>3</th>\n",
       "      <td>-1.703042</td>\n",
       "      <td>-0.297555</td>\n",
       "      <td>-0.288654</td>\n",
       "      <td>-0.292442</td>\n",
       "      <td>-0.317582</td>\n",
       "      <td>-0.333411</td>\n",
       "      <td>-0.530965</td>\n",
       "      <td>1.357803</td>\n",
       "      <td>-0.08096</td>\n",
       "      <td>-0.714778</td>\n",
       "      <td>-0.302345</td>\n",
       "      <td>1</td>\n",
       "    </tr>\n",
       "    <tr>\n",
       "      <th>4</th>\n",
       "      <td>-1.703042</td>\n",
       "      <td>-0.278532</td>\n",
       "      <td>-0.274329</td>\n",
       "      <td>-0.282221</td>\n",
       "      <td>-0.323814</td>\n",
       "      <td>-0.333411</td>\n",
       "      <td>-0.530965</td>\n",
       "      <td>-0.736484</td>\n",
       "      <td>-0.08096</td>\n",
       "      <td>1.399036</td>\n",
       "      <td>-0.302345</td>\n",
       "      <td>0</td>\n",
       "    </tr>\n",
       "  </tbody>\n",
       "</table>\n",
       "</div>"
      ],
      "text/plain": [
       "       step    amount  oldbalanceOrg  newbalanceOrig  oldbalanceDest  \\\n",
       "0 -1.703042 -0.281560      -0.229810       -0.237622       -0.323814   \n",
       "1 -1.703042 -0.294767      -0.281359       -0.285812       -0.323814   \n",
       "2 -1.703042 -0.297555      -0.288654       -0.292442       -0.323814   \n",
       "3 -1.703042 -0.297555      -0.288654       -0.292442       -0.317582   \n",
       "4 -1.703042 -0.278532      -0.274329       -0.282221       -0.323814   \n",
       "\n",
       "   newbalanceDest  type_CASH_IN  type_CASH_OUT  type_DEBIT  type_PAYMENT  \\\n",
       "0       -0.333411     -0.530965      -0.736484    -0.08096      1.399036   \n",
       "1       -0.333411     -0.530965      -0.736484    -0.08096      1.399036   \n",
       "2       -0.333411     -0.530965      -0.736484    -0.08096     -0.714778   \n",
       "3       -0.333411     -0.530965       1.357803    -0.08096     -0.714778   \n",
       "4       -0.333411     -0.530965      -0.736484    -0.08096      1.399036   \n",
       "\n",
       "   type_TRANSFER  isFraud  \n",
       "0      -0.302345        0  \n",
       "1      -0.302345        0  \n",
       "2       3.307478        1  \n",
       "3      -0.302345        1  \n",
       "4      -0.302345        0  "
      ]
     },
     "execution_count": 168,
     "metadata": {},
     "output_type": "execute_result"
    }
   ],
   "source": [
    "df = pd.read_csv('/kaggle/input/fraud_data_kaggle.csv', nrows=NROWS)\n",
    "df = process_data(df)\n",
    "df.head()"
   ]
  },
  {
   "cell_type": "code",
   "execution_count": 169,
   "metadata": {},
   "outputs": [
    {
     "name": "stdout",
     "output_type": "stream",
     "text": [
      "Original train\n",
      "Fraud Rate in (all, train, test)=(0.00129, 0.00129, 0.00129)\n"
     ]
    },
    {
     "name": "stderr",
     "output_type": "stream",
     "text": [
      "2021-11-30 08:25:57.128082: I tensorflow/core/grappler/optimizers/custom_graph_optimizer_registry.cc:112] Plugin optimizer for device_type GPU is enabled.\n",
      "2021-11-30 08:27:04.966644: I tensorflow/core/grappler/optimizers/custom_graph_optimizer_registry.cc:112] Plugin optimizer for device_type GPU is enabled.\n"
     ]
    },
    {
     "name": "stdout",
     "output_type": "stream",
     "text": [
      "label=[0 0 0 ... 0 0 0] pred=[0 0 0 ... 0 0 0]\n",
      "accuracy_score: 0.9993\n",
      "precision_score: 0.9752\n",
      "recall_score: 0.4540\n",
      "f1_score: 0.6196\n",
      "cm=[[1270862      19]\n",
      " [    897     746]]\n"
     ]
    },
    {
     "data": {
      "image/png": "[encoded data removed]",
      "text/plain": [
       "<Figure size 432x288 with 2 Axes>"
      ]
     },
     "metadata": {
      "needs_background": "light"
     },
     "output_type": "display_data"
    }
   ],
   "source": [
    "# Use the imblanced train data as is.\n",
    "train_and_eval(df)"
   ]
  },
  {
   "cell_type": "code",
   "execution_count": 170,
   "metadata": {},
   "outputs": [
    {
     "name": "stdout",
     "output_type": "stream",
     "text": [
      "Original train\n",
      "Fraud Rate in (all, train, test)=(0.00129, 0.00129, 0.00129)\n"
     ]
    },
    {
     "name": "stderr",
     "output_type": "stream",
     "text": [
      "2021-11-30 08:27:38.528612: I tensorflow/core/grappler/optimizers/custom_graph_optimizer_registry.cc:112] Plugin optimizer for device_type GPU is enabled.\n",
      "2021-11-30 08:28:47.997349: I tensorflow/core/grappler/optimizers/custom_graph_optimizer_registry.cc:112] Plugin optimizer for device_type GPU is enabled.\n"
     ]
    },
    {
     "name": "stdout",
     "output_type": "stream",
     "text": [
      "label=[0 0 0 ... 0 0 0] pred=[0 0 0 ... 0 0 1]\n",
      "accuracy_score: 0.9170\n",
      "precision_score: 0.0140\n",
      "recall_score: 0.9105\n",
      "f1_score: 0.0275\n",
      "cm=[[1165364  105517]\n",
      " [    147    1496]]\n"
     ]
    },
    {
     "data": {
      "image/png": "[encoded data removed]",
      "text/plain": [
       "<Figure size 432x288 with 2 Axes>"
      ]
     },
     "metadata": {
      "needs_background": "light"
     },
     "output_type": "display_data"
    }
   ],
   "source": [
    "# Based on the isFraud rate, we pass class_weight to Keras.\n",
    "train_and_eval(df, use_class_weight=True)"
   ]
  },
  {
   "cell_type": "code",
   "execution_count": 171,
   "metadata": {},
   "outputs": [
    {
     "name": "stdout",
     "output_type": "stream",
     "text": [
      "Original train\n",
      "Fraud Rate in (all, train, test)=(0.00129, 0.00129, 0.00129)\n"
     ]
    },
    {
     "name": "stderr",
     "output_type": "stream",
     "text": [
      "2021-11-30 08:29:21.105189: I tensorflow/core/grappler/optimizers/custom_graph_optimizer_registry.cc:112] Plugin optimizer for device_type GPU is enabled.\n",
      "2021-11-30 08:30:31.156252: I tensorflow/core/grappler/optimizers/custom_graph_optimizer_registry.cc:112] Plugin optimizer for device_type GPU is enabled.\n"
     ]
    },
    {
     "name": "stdout",
     "output_type": "stream",
     "text": [
      "label=[0 0 0 ... 0 0 0] pred=[0 0 0 ... 0 0 1]\n",
      "accuracy_score: 0.9381\n",
      "precision_score: 0.0190\n",
      "recall_score: 0.9276\n",
      "f1_score: 0.0373\n",
      "cm=[[1192241   78640]\n",
      " [    119    1524]]\n"
     ]
    },
    {
     "data": {
      "image/png": "[encoded data removed]",
      "text/plain": [
       "<Figure size 432x288 with 2 Axes>"
      ]
     },
     "metadata": {
      "needs_background": "light"
     },
     "output_type": "display_data"
    }
   ],
   "source": [
    "# Based on the isFraud rate, we pass class_weight to Keras and use initial bias value.\n",
    "train_and_eval(df, use_class_weight=True, initialize_bias=True)"
   ]
  },
  {
   "cell_type": "code",
   "execution_count": 172,
   "metadata": {},
   "outputs": [
    {
     "name": "stdout",
     "output_type": "stream",
     "text": [
      "Down sample train 0.0001\n",
      "Fraud Rate in (all, train, test)=(0.00129, 0.92823, 0.00129)\n"
     ]
    },
    {
     "name": "stderr",
     "output_type": "stream",
     "text": [
      "2021-11-30 08:31:04.981915: I tensorflow/core/grappler/optimizers/custom_graph_optimizer_registry.cc:112] Plugin optimizer for device_type GPU is enabled.\n",
      "2021-11-30 08:31:05.446658: I tensorflow/core/grappler/optimizers/custom_graph_optimizer_registry.cc:112] Plugin optimizer for device_type GPU is enabled.\n"
     ]
    },
    {
     "name": "stdout",
     "output_type": "stream",
     "text": [
      "label=[0 0 0 ... 0 0 0] pred=[1 1 1 ... 1 1 1]\n",
      "accuracy_score: 0.0013\n",
      "precision_score: 0.0013\n",
      "recall_score: 1.0000\n",
      "f1_score: 0.0026\n",
      "cm=[[     16 1270865]\n",
      " [      0    1643]]\n"
     ]
    },
    {
     "data": {
      "image/png": "[encoded data removed]",
      "text/plain": [
       "<Figure size 432x288 with 2 Axes>"
      ]
     },
     "metadata": {
      "needs_background": "light"
     },
     "output_type": "display_data"
    }
   ],
   "source": [
    "# We down sample the train data.\n",
    "train_and_eval(df, should_down_sample=True, frac=0.0001)"
   ]
  },
  {
   "cell_type": "code",
   "execution_count": 173,
   "metadata": {},
   "outputs": [
    {
     "name": "stdout",
     "output_type": "stream",
     "text": [
      "Down sample train 0.003\n",
      "Fraud Rate in (all, train, test)=(0.00129, 0.30109, 0.00129)\n"
     ]
    },
    {
     "name": "stderr",
     "output_type": "stream",
     "text": [
      "2021-11-30 08:31:38.822019: I tensorflow/core/grappler/optimizers/custom_graph_optimizer_registry.cc:112] Plugin optimizer for device_type GPU is enabled.\n",
      "2021-11-30 08:31:39.319104: I tensorflow/core/grappler/optimizers/custom_graph_optimizer_registry.cc:112] Plugin optimizer for device_type GPU is enabled.\n"
     ]
    },
    {
     "name": "stdout",
     "output_type": "stream",
     "text": [
      "label=[0 0 0 ... 0 0 0] pred=[1 0 0 ... 0 0 1]\n",
      "accuracy_score: 0.9575\n",
      "precision_score: 0.0170\n",
      "recall_score: 0.5618\n",
      "f1_score: 0.0330\n",
      "cm=[[1217487   53394]\n",
      " [    720     923]]\n"
     ]
    },
    {
     "data": {
      "image/png": "[encoded data removed]",
      "text/plain": [
       "<Figure size 432x288 with 2 Axes>"
      ]
     },
     "metadata": {
      "needs_background": "light"
     },
     "output_type": "display_data"
    }
   ],
   "source": [
    "# We down sample the train data.\n",
    "train_and_eval(df, should_down_sample=True, frac=0.003)"
   ]
  },
  {
   "cell_type": "code",
   "execution_count": 174,
   "metadata": {},
   "outputs": [
    {
     "name": "stdout",
     "output_type": "stream",
     "text": [
      "Down sample train 0.002\n",
      "Fraud Rate in (all, train, test)=(0.00129, 0.39254, 0.00129)\n"
     ]
    },
    {
     "name": "stderr",
     "output_type": "stream",
     "text": [
      "2021-11-30 08:32:13.415078: I tensorflow/core/grappler/optimizers/custom_graph_optimizer_registry.cc:112] Plugin optimizer for device_type GPU is enabled.\n",
      "2021-11-30 08:32:13.914875: I tensorflow/core/grappler/optimizers/custom_graph_optimizer_registry.cc:112] Plugin optimizer for device_type GPU is enabled.\n"
     ]
    },
    {
     "name": "stdout",
     "output_type": "stream",
     "text": [
      "label=[0 0 0 ... 0 0 0] pred=[1 0 0 ... 0 0 1]\n",
      "accuracy_score: 0.9191\n",
      "precision_score: 0.0112\n",
      "recall_score: 0.7048\n",
      "f1_score: 0.0220\n",
      "cm=[[1168482  102399]\n",
      " [    485    1158]]\n"
     ]
    },
    {
     "data": {
      "image/png": "[encoded data removed]",
      "text/plain": [
       "<Figure size 432x288 with 2 Axes>"
      ]
     },
     "metadata": {
      "needs_background": "light"
     },
     "output_type": "display_data"
    }
   ],
   "source": [
    "# We down sample the train data.\n",
    "train_and_eval(df, should_down_sample=True, frac=0.002)"
   ]
  },
  {
   "cell_type": "code",
   "execution_count": 175,
   "metadata": {},
   "outputs": [
    {
     "name": "stdout",
     "output_type": "stream",
     "text": [
      "Down sample train 0.001\n",
      "Fraud Rate in (all, train, test)=(0.00129, 0.56375, 0.00129)\n"
     ]
    },
    {
     "name": "stderr",
     "output_type": "stream",
     "text": [
      "2021-11-30 08:32:47.451775: I tensorflow/core/grappler/optimizers/custom_graph_optimizer_registry.cc:112] Plugin optimizer for device_type GPU is enabled.\n",
      "2021-11-30 08:32:47.800415: I tensorflow/core/grappler/optimizers/custom_graph_optimizer_registry.cc:112] Plugin optimizer for device_type GPU is enabled.\n"
     ]
    },
    {
     "name": "stdout",
     "output_type": "stream",
     "text": [
      "label=[0 0 0 ... 0 0 0] pred=[1 0 1 ... 1 1 1]\n",
      "accuracy_score: 0.2024\n",
      "precision_score: 0.0016\n",
      "recall_score: 0.9915\n",
      "f1_score: 0.0032\n",
      "cm=[[ 255914 1014967]\n",
      " [     14    1629]]\n"
     ]
    },
    {
     "data": {
      "image/png": "[encoded data removed]",
      "text/plain": [
       "<Figure size 432x288 with 2 Axes>"
      ]
     },
     "metadata": {
      "needs_background": "light"
     },
     "output_type": "display_data"
    }
   ],
   "source": [
    "# We down sample the train data.\n",
    "train_and_eval(df, should_down_sample=True, frac=0.001)"
   ]
  },
  {
   "cell_type": "code",
   "execution_count": 176,
   "metadata": {},
   "outputs": [
    {
     "name": "stdout",
     "output_type": "stream",
     "text": [
      "Down sample train 0.002\n",
      "Fraud Rate in (all, train, test)=(0.00129, 0.39254, 0.00129)\n"
     ]
    },
    {
     "name": "stderr",
     "output_type": "stream",
     "text": [
      "2021-11-30 08:33:21.385161: I tensorflow/core/grappler/optimizers/custom_graph_optimizer_registry.cc:112] Plugin optimizer for device_type GPU is enabled.\n",
      "2021-11-30 08:33:21.921622: I tensorflow/core/grappler/optimizers/custom_graph_optimizer_registry.cc:112] Plugin optimizer for device_type GPU is enabled.\n"
     ]
    },
    {
     "name": "stdout",
     "output_type": "stream",
     "text": [
      "label=[0 0 0 ... 0 0 0] pred=[1 0 0 ... 0 0 1]\n",
      "accuracy_score: 0.7765\n",
      "precision_score: 0.0051\n",
      "recall_score: 0.8953\n",
      "f1_score: 0.0102\n",
      "cm=[[986696 284185]\n",
      " [   172   1471]]\n"
     ]
    },
    {
     "data": {
      "image/png": "[encoded data removed]",
      "text/plain": [
       "<Figure size 432x288 with 2 Axes>"
      ]
     },
     "metadata": {
      "needs_background": "light"
     },
     "output_type": "display_data"
    }
   ],
   "source": [
    "# We first down sample the train data, then also use the class_weight.\n",
    "train_and_eval(df, should_down_sample=True, frac=0.002, use_class_weight=True)"
   ]
  },
  {
   "cell_type": "code",
   "execution_count": null,
   "metadata": {},
   "outputs": [],
   "source": []
  }
 ],
 "metadata": {
  "interpreter": {
   "hash": "e3016a69a89dee9b7d8dac3f319d8da612944bcbf5c351334eed207492b9bff5"
  },
  "kernelspec": {
   "display_name": "Python 3.8.12 64-bit ('kaggle-vent': conda)",
   "language": "python",
   "name": "python3"
  },
  "language_info": {
   "codemirror_mode": {
    "name": "ipython",
    "version": 3
   },
   "file_extension": ".py",
   "mimetype": "text/x-python",
   "name": "python",
   "nbconvert_exporter": "python",
   "pygments_lexer": "ipython3",
   "version": "3.8.12"
  },
  "orig_nbformat": 4
 },
 "nbformat": 4,
 "nbformat_minor": 2
}
