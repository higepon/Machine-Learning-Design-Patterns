{
 "cells": [
  {
   "cell_type": "code",
   "execution_count": 48,
   "metadata": {},
   "outputs": [],
   "source": [
    "# Based on https://github.com/GoogleCloudPlatform/ml-design-patterns/blob/master/03_problem_representation/rebalancing.ipynb.\n",
    "#   !gsutil cp gs://ml-design-patterns/fraud_data_kaggle.csv .\n",
    "\n",
    "import xgboost as xgb\n",
    "import pandas as pd\n",
    "import numpy as np\n",
    "import itertools\n",
    "import matplotlib.pyplot as plt\n",
    "from sklearn.metrics import confusion_matrix\n",
    "from sklearn.metrics import f1_score, recall_score, precision_score, accuracy_score\n",
    "from sklearn.preprocessing import StandardScaler\n",
    "from sklearn.model_selection import train_test_split\n",
    "from sklearn.utils import shuffle\n",
    "import tensorflow as tf\n",
    "from tensorflow import keras"
   ]
  },
  {
   "cell_type": "code",
   "execution_count": 89,
   "metadata": {},
   "outputs": [],
   "source": [
    "SEED = 42\n",
    "NROWS = 100000\n",
    "\n",
    "def process_data(df: pd.DataFrame) -> pd.DataFrame:\n",
    "    df.drop(columns=['nameOrig', 'nameDest', 'isFlaggedFraud'], inplace=True)\n",
    "    df = pd.get_dummies(df)\n",
    "\n",
    "    target = df.isFraud\n",
    "    df = df.drop(columns=['isFraud'])\n",
    "    sc = StandardScaler()    \n",
    "    df[df.columns] = sc.fit_transform(df)\n",
    "    df['isFraud'] = target\n",
    "    return df\n",
    "\n",
    "def fraud_rate_df(df: pd.DataFrame) -> float:\n",
    "    fraud_df = df[df['isFraud'] == 1]\n",
    "    return len(fraud_df)/len(df)\n",
    "\n",
    "def fraud_rate(y) -> float:\n",
    "    fraud_indices = np.where(y == 1)[0]\n",
    "    return len(fraud_indices) / len(y) # type: ignore\n",
    "\n",
    "def train_split(df: pd.DataFrame):\n",
    "    y = df.isFraud.values\n",
    "    X_train, X_test, _, y_test = train_test_split(df, y, stratify=y, test_size=0.2, random_state=SEED)\n",
    "    train_df = pd.DataFrame(data=X_train, columns=df.columns)\n",
    "    X_test.drop(columns=['isFraud'], inplace=True) # type: ignore\n",
    "    return train_df, X_test, y_test\n",
    "\n",
    "# This is from the sklearn docs\n",
    "# https://scikit-learn.org/0.18/auto_examples/model_selection/plot_confusion_matrix.html\n",
    "def plot_confusion_matrix(cm, classes,\n",
    "                          normalize=False,\n",
    "                          title='Confusion matrix',\n",
    "                          cmap=plt.cm.Blues):\n",
    "    \"\"\"\n",
    "    This function prints and plots the confusion matrix.\n",
    "    Normalization can be applied by setting `normalize=True`.\n",
    "    \"\"\"\n",
    "    plt.imshow(cm, interpolation='nearest', cmap=cmap)\n",
    "    plt.title(title)\n",
    "    plt.colorbar()\n",
    "    tick_marks = np.arange(len(classes))\n",
    "    plt.xticks(tick_marks, classes, rotation=45)\n",
    "    plt.yticks(tick_marks, classes)\n",
    "\n",
    "    if normalize:\n",
    "        cm = np.round(cm.astype('float') / cm.sum(axis=1)[:, np.newaxis], 3)\n",
    "\n",
    "    for i, j in itertools.product(range(cm.shape[0]), range(cm.shape[1])):\n",
    "        plt.text(j, i, f'{cm[i, j]:.3f}',\n",
    "                 horizontalalignment=\"center\",\n",
    "                 color=\"black\")\n",
    "\n",
    "    plt.tight_layout()  \n",
    "    plt.ylabel('True label')\n",
    "    plt.xlabel('Predicted label')\n",
    "\n",
    "def train_and_eval(df: pd.DataFrame, should_down_sample: bool=False, frac: float=1.0, use_class_weight=False):\n",
    "\n",
    "    train_df, X_test, y_test = train_split(df)\n",
    "\n",
    "    # down_sample\n",
    "    if should_down_sample:\n",
    "        print(f\"Down sample train {frac}\")\n",
    "        fraud = train_df[train_df['isFraud'] == 1]\n",
    "        not_fraud = train_df[train_df['isFraud'] == 0]\n",
    "        not_fraud_sample = not_fraud.sample(random_state=SEED, frac=frac)\n",
    "        train_df = pd.concat([not_fraud_sample,fraud])\n",
    "        train_df = shuffle(train_df, random_state=SEED)    \n",
    "    else:\n",
    "        print(\"Original train\")\n",
    "\n",
    "    X_train = train_df.drop(columns=['isFraud']).values\n",
    "    y_train = train_df.isFraud.values\n",
    "\n",
    "    print(f'Fraud Rate in (all, train, test)=({fraud_rate_df(df):.5f}, {fraud_rate(y_train):.5f}, {fraud_rate(y_test):.5f})')\n",
    "\n",
    "    if use_class_weight:\n",
    "        minor_weight = 1 / fraud_rate(y_train) / 2\n",
    "        major_weight = 1 / (1 - fraud_rate(y_train)) / 2\n",
    "        class_weight = {1: minor_weight, 0: major_weight}\n",
    "    else:\n",
    "        class_weight = None\n",
    "\n",
    "    model = keras.Sequential([\n",
    "        keras.layers.Dense(10, input_dim=X_train.shape[1], kernel_initializer='normal', activation='relu'),\n",
    "        keras.layers.Dense(1, activation='sigmoid')\n",
    "    ])    \n",
    "    \n",
    "    model.compile(loss='binary_crossentropy', optimizer='adam', metrics=['accuracy'])    \n",
    "    model.fit(X_train, y_train, epochs=2, batch_size=512, verbose=0, class_weight=class_weight)\n",
    "\n",
    "    y_pred = model.predict(X_test)\n",
    "    y_pred = y_pred >= 0.5\n",
    "    y_pred = y_pred.reshape(-1).astype(int)\n",
    "    print(f'label={y_test} pred={y_pred}')\n",
    "    print(f'accuracy_score: {accuracy_score(y_test, y_pred):.4f}')    \n",
    "    print(f'precision_score: {precision_score(y_test, y_pred):.4f}')\n",
    "    print(f'recall_score: {recall_score(y_test, y_pred):.4f}')    \n",
    "    print(f'f1_score: {f1_score(y_test, y_pred):.4f}')\n",
    "    cm = confusion_matrix(y_test, y_pred, normalize='true')\n",
    "    print('cm', cm, cm.ravel())\n",
    "    tn, fp, fn, tp = cm.ravel()\n",
    "    print(f'tp={tp} fn={fn} fp={fp} tn={tn}')\n",
    "    print(f'precision={tp/(tp+fp)}')\n",
    "    classes = ['not fraud', 'fraud']    \n",
    "    plot_confusion_matrix(cm, classes, normalize=False)    "
   ]
  },
  {
   "cell_type": "code",
   "execution_count": 90,
   "metadata": {},
   "outputs": [
    {
     "data": {
      "text/html": [
       "<div>\n",
       "<style scoped>\n",
       "    .dataframe tbody tr th:only-of-type {\n",
       "        vertical-align: middle;\n",
       "    }\n",
       "\n",
       "    .dataframe tbody tr th {\n",
       "        vertical-align: top;\n",
       "    }\n",
       "\n",
       "    .dataframe thead th {\n",
       "        text-align: right;\n",
       "    }\n",
       "</style>\n",
       "<table border=\"1\" class=\"dataframe\">\n",
       "  <thead>\n",
       "    <tr style=\"text-align: right;\">\n",
       "      <th></th>\n",
       "      <th>step</th>\n",
       "      <th>amount</th>\n",
       "      <th>oldbalanceOrg</th>\n",
       "      <th>newbalanceOrig</th>\n",
       "      <th>oldbalanceDest</th>\n",
       "      <th>newbalanceDest</th>\n",
       "      <th>type_CASH_IN</th>\n",
       "      <th>type_CASH_OUT</th>\n",
       "      <th>type_DEBIT</th>\n",
       "      <th>type_PAYMENT</th>\n",
       "      <th>type_TRANSFER</th>\n",
       "      <th>isFraud</th>\n",
       "    </tr>\n",
       "  </thead>\n",
       "  <tbody>\n",
       "    <tr>\n",
       "      <th>0</th>\n",
       "      <td>-4.108186</td>\n",
       "      <td>-0.475641</td>\n",
       "      <td>-0.264702</td>\n",
       "      <td>-0.270632</td>\n",
       "      <td>-0.366533</td>\n",
       "      <td>-0.422519</td>\n",
       "      <td>-0.502889</td>\n",
       "      <td>-0.665865</td>\n",
       "      <td>-0.099893</td>\n",
       "      <td>1.237286</td>\n",
       "      <td>-0.306685</td>\n",
       "      <td>0</td>\n",
       "    </tr>\n",
       "    <tr>\n",
       "      <th>1</th>\n",
       "      <td>-4.108186</td>\n",
       "      <td>-0.498805</td>\n",
       "      <td>-0.320397</td>\n",
       "      <td>-0.322604</td>\n",
       "      <td>-0.366533</td>\n",
       "      <td>-0.422519</td>\n",
       "      <td>-0.502889</td>\n",
       "      <td>-0.665865</td>\n",
       "      <td>-0.099893</td>\n",
       "      <td>1.237286</td>\n",
       "      <td>-0.306685</td>\n",
       "      <td>0</td>\n",
       "    </tr>\n",
       "    <tr>\n",
       "      <th>2</th>\n",
       "      <td>-4.108186</td>\n",
       "      <td>-0.503694</td>\n",
       "      <td>-0.328278</td>\n",
       "      <td>-0.329753</td>\n",
       "      <td>-0.366533</td>\n",
       "      <td>-0.422519</td>\n",
       "      <td>-0.502889</td>\n",
       "      <td>-0.665865</td>\n",
       "      <td>-0.099893</td>\n",
       "      <td>-0.808221</td>\n",
       "      <td>3.260669</td>\n",
       "      <td>1</td>\n",
       "    </tr>\n",
       "    <tr>\n",
       "      <th>3</th>\n",
       "      <td>-4.108186</td>\n",
       "      <td>-0.503694</td>\n",
       "      <td>-0.328278</td>\n",
       "      <td>-0.329753</td>\n",
       "      <td>-0.357715</td>\n",
       "      <td>-0.422519</td>\n",
       "      <td>-0.502889</td>\n",
       "      <td>1.501806</td>\n",
       "      <td>-0.099893</td>\n",
       "      <td>-0.808221</td>\n",
       "      <td>-0.306685</td>\n",
       "      <td>1</td>\n",
       "    </tr>\n",
       "    <tr>\n",
       "      <th>4</th>\n",
       "      <td>-4.108186</td>\n",
       "      <td>-0.470330</td>\n",
       "      <td>-0.312802</td>\n",
       "      <td>-0.318731</td>\n",
       "      <td>-0.366533</td>\n",
       "      <td>-0.422519</td>\n",
       "      <td>-0.502889</td>\n",
       "      <td>-0.665865</td>\n",
       "      <td>-0.099893</td>\n",
       "      <td>1.237286</td>\n",
       "      <td>-0.306685</td>\n",
       "      <td>0</td>\n",
       "    </tr>\n",
       "  </tbody>\n",
       "</table>\n",
       "</div>"
      ],
      "text/plain": [
       "       step    amount  oldbalanceOrg  newbalanceOrig  oldbalanceDest  \\\n",
       "0 -4.108186 -0.475641      -0.264702       -0.270632       -0.366533   \n",
       "1 -4.108186 -0.498805      -0.320397       -0.322604       -0.366533   \n",
       "2 -4.108186 -0.503694      -0.328278       -0.329753       -0.366533   \n",
       "3 -4.108186 -0.503694      -0.328278       -0.329753       -0.357715   \n",
       "4 -4.108186 -0.470330      -0.312802       -0.318731       -0.366533   \n",
       "\n",
       "   newbalanceDest  type_CASH_IN  type_CASH_OUT  type_DEBIT  type_PAYMENT  \\\n",
       "0       -0.422519     -0.502889      -0.665865   -0.099893      1.237286   \n",
       "1       -0.422519     -0.502889      -0.665865   -0.099893      1.237286   \n",
       "2       -0.422519     -0.502889      -0.665865   -0.099893     -0.808221   \n",
       "3       -0.422519     -0.502889       1.501806   -0.099893     -0.808221   \n",
       "4       -0.422519     -0.502889      -0.665865   -0.099893      1.237286   \n",
       "\n",
       "   type_TRANSFER  isFraud  \n",
       "0      -0.306685        0  \n",
       "1      -0.306685        0  \n",
       "2       3.260669        1  \n",
       "3      -0.306685        1  \n",
       "4      -0.306685        0  "
      ]
     },
     "execution_count": 90,
     "metadata": {},
     "output_type": "execute_result"
    }
   ],
   "source": [
    "df = pd.read_csv('/kaggle/input/fraud_data_kaggle.csv', nrows=NROWS)\n",
    "df = process_data(df)\n",
    "df.head()"
   ]
  },
  {
   "cell_type": "code",
   "execution_count": 91,
   "metadata": {},
   "outputs": [
    {
     "name": "stdout",
     "output_type": "stream",
     "text": [
      "Original train\n",
      "Fraud Rate in (all, train, test)=(0.00116, 0.00116, 0.00115)\n"
     ]
    },
    {
     "name": "stderr",
     "output_type": "stream",
     "text": [
      "2021-11-29 19:51:33.903146: I tensorflow/core/grappler/optimizers/custom_graph_optimizer_registry.cc:112] Plugin optimizer for device_type GPU is enabled.\n",
      "2021-11-29 19:51:35.145997: I tensorflow/core/grappler/optimizers/custom_graph_optimizer_registry.cc:112] Plugin optimizer for device_type GPU is enabled.\n"
     ]
    },
    {
     "name": "stdout",
     "output_type": "stream",
     "text": [
      "label=[0 0 0 ... 0 0 0] pred=[0 0 0 ... 0 0 0]\n",
      "accuracy_score: 0.9989\n",
      "precision_score: 0.0000\n",
      "recall_score: 0.0000\n",
      "f1_score: 0.0000\n",
      "cm [[1. 0.]\n",
      " [1. 0.]] [1. 0. 1. 0.]\n",
      "tp=0.0 fn=1.0 fp=0.0 tn=1.0\n",
      "precision=nan\n"
     ]
    },
    {
     "name": "stderr",
     "output_type": "stream",
     "text": [
      "/Users/higepon/miniforge3/envs/kaggle-vent/lib/python3.8/site-packages/sklearn/metrics/_classification.py:1308: UndefinedMetricWarning: Precision is ill-defined and being set to 0.0 due to no predicted samples. Use `zero_division` parameter to control this behavior.\n",
      "  _warn_prf(average, modifier, msg_start, len(result))\n",
      "/var/folders/wm/b5d2qft111vgdzrhrny8hx0w0000gn/T/ipykernel_47630/741296189.py:106: RuntimeWarning: invalid value encountered in double_scalars\n",
      "  print(f'precision={tp/(tp+fp)}')\n"
     ]
    },
    {
     "data": {
      "image/png": "[encoded data removed]",
      "text/plain": [
       "<Figure size 432x288 with 2 Axes>"
      ]
     },
     "metadata": {
      "needs_background": "light"
     },
     "output_type": "display_data"
    }
   ],
   "source": [
    "# Use the imblanced train data as is.\n",
    "train_and_eval(df)"
   ]
  },
  {
   "cell_type": "code",
   "execution_count": 92,
   "metadata": {},
   "outputs": [
    {
     "name": "stdout",
     "output_type": "stream",
     "text": [
      "Original train\n",
      "Fraud Rate in (all, train, test)=(0.00116, 0.00116, 0.00115)\n"
     ]
    },
    {
     "name": "stderr",
     "output_type": "stream",
     "text": [
      "2021-11-29 19:51:35.857006: I tensorflow/core/grappler/optimizers/custom_graph_optimizer_registry.cc:112] Plugin optimizer for device_type GPU is enabled.\n",
      "2021-11-29 19:51:37.063199: I tensorflow/core/grappler/optimizers/custom_graph_optimizer_registry.cc:112] Plugin optimizer for device_type GPU is enabled.\n"
     ]
    },
    {
     "name": "stdout",
     "output_type": "stream",
     "text": [
      "label=[0 0 0 ... 0 0 0] pred=[0 0 1 ... 0 0 0]\n",
      "accuracy_score: 0.7113\n",
      "precision_score: 0.0038\n",
      "recall_score: 0.9565\n",
      "f1_score: 0.0076\n",
      "cm [[0.71096761 0.28903239]\n",
      " [0.04347826 0.95652174]] [0.71096761 0.28903239 0.04347826 0.95652174]\n",
      "tp=0.9565217391304348 fn=0.043478260869565216 fp=0.28903238724533215 tn=0.7109676127546679\n",
      "precision=0.7679487537917441\n"
     ]
    },
    {
     "data": {
      "image/png": "[encoded data removed]",
      "text/plain": [
       "<Figure size 432x288 with 2 Axes>"
      ]
     },
     "metadata": {
      "needs_background": "light"
     },
     "output_type": "display_data"
    }
   ],
   "source": [
    "# Based on the isFraud rate, we pass class_weight to Keras.\n",
    "train_and_eval(df, use_class_weight=True)"
   ]
  },
  {
   "cell_type": "code",
   "execution_count": 93,
   "metadata": {},
   "outputs": [
    {
     "name": "stdout",
     "output_type": "stream",
     "text": [
      "Down sample train 0.0001\n",
      "Fraud Rate in (all, train, test)=(0.00116, 0.92079, 0.00115)\n"
     ]
    },
    {
     "name": "stderr",
     "output_type": "stream",
     "text": [
      "2021-11-29 19:51:37.773575: I tensorflow/core/grappler/optimizers/custom_graph_optimizer_registry.cc:112] Plugin optimizer for device_type GPU is enabled.\n",
      "2021-11-29 19:51:37.867693: I tensorflow/core/grappler/optimizers/custom_graph_optimizer_registry.cc:112] Plugin optimizer for device_type GPU is enabled.\n"
     ]
    },
    {
     "name": "stdout",
     "output_type": "stream",
     "text": [
      "label=[0 0 0 ... 0 0 0] pred=[0 0 1 ... 1 1 0]\n",
      "accuracy_score: 0.4466\n",
      "precision_score: 0.0012\n",
      "recall_score: 0.5652\n",
      "f1_score: 0.0023\n",
      "cm [[0.44651349 0.55348651]\n",
      " [0.43478261 0.56521739]] [0.44651349 0.55348651 0.43478261 0.56521739]\n",
      "tp=0.5652173913043478 fn=0.43478260869565216 fp=0.5534865094859088 tn=0.4465134905140912\n",
      "precision=0.5052430682552158\n"
     ]
    },
    {
     "data": {
      "image/png": "[encoded data removed]",
      "text/plain": [
       "<Figure size 432x288 with 2 Axes>"
      ]
     },
     "metadata": {
      "needs_background": "light"
     },
     "output_type": "display_data"
    }
   ],
   "source": [
    "# We down sample the train data.\n",
    "train_and_eval(df, should_down_sample=True, frac=0.0001)"
   ]
  },
  {
   "cell_type": "code",
   "execution_count": 65,
   "metadata": {},
   "outputs": [
    {
     "name": "stdout",
     "output_type": "stream",
     "text": [
      "Down sample train 0.003\n",
      "Fraud Rate in (all, train, test)=(0.00116, 0.27928, 0.00115)\n"
     ]
    },
    {
     "name": "stderr",
     "output_type": "stream",
     "text": [
      "2021-11-29 10:51:37.047318: I tensorflow/core/grappler/optimizers/custom_graph_optimizer_registry.cc:112] Plugin optimizer for device_type GPU is enabled.\n",
      "2021-11-29 10:51:37.142657: I tensorflow/core/grappler/optimizers/custom_graph_optimizer_registry.cc:112] Plugin optimizer for device_type GPU is enabled.\n"
     ]
    },
    {
     "name": "stdout",
     "output_type": "stream",
     "text": [
      "label=[0 0 0 ... 0 0 0] pred=[1 0 0 ... 0 0 0]\n",
      "accuracy_score: 0.62\n",
      "precision_score: 0.00\n",
      "recall_score: 0.00\n",
      "f1_score: 0.00\n",
      "tp=0 fn=12466 fp=7511 tn=23\n",
      "precision=0.0\n"
     ]
    },
    {
     "data": {
      "image/png": "[encoded data removed]",
      "text/plain": [
       "<Figure size 432x288 with 2 Axes>"
      ]
     },
     "metadata": {
      "needs_background": "light"
     },
     "output_type": "display_data"
    }
   ],
   "source": [
    "# We down sample the train data.\n",
    "train_and_eval(df, should_down_sample=True, frac=0.003)"
   ]
  },
  {
   "cell_type": "code",
   "execution_count": 43,
   "metadata": {},
   "outputs": [
    {
     "name": "stdout",
     "output_type": "stream",
     "text": [
      "Down sample train 0.002\n",
      "Fraud Rate in (all, train, test)=(0.00116, 0.36759, 0.00115)\n"
     ]
    },
    {
     "name": "stderr",
     "output_type": "stream",
     "text": [
      "2021-11-29 10:07:01.881927: I tensorflow/core/grappler/optimizers/custom_graph_optimizer_registry.cc:112] Plugin optimizer for device_type GPU is enabled.\n",
      "2021-11-29 10:07:01.988386: I tensorflow/core/grappler/optimizers/custom_graph_optimizer_registry.cc:112] Plugin optimizer for device_type GPU is enabled.\n"
     ]
    },
    {
     "name": "stdout",
     "output_type": "stream",
     "text": [
      "label=[0 0 0 ... 0 0 0] pred=[1 0 1 ... 0 0 0]\n",
      "f1_score: 0.00\n"
     ]
    },
    {
     "data": {
      "image/png": "[encoded data removed]",
      "text/plain": [
       "<Figure size 432x288 with 2 Axes>"
      ]
     },
     "metadata": {
      "needs_background": "light"
     },
     "output_type": "display_data"
    }
   ],
   "source": [
    "# We down sample the train data.\n",
    "train_and_eval(df, should_down_sample=True, frac=0.002)"
   ]
  },
  {
   "cell_type": "code",
   "execution_count": 44,
   "metadata": {},
   "outputs": [
    {
     "name": "stdout",
     "output_type": "stream",
     "text": [
      "Down sample train 0.001\n",
      "Fraud Rate in (all, train, test)=(0.00116, 0.53757, 0.00115)\n"
     ]
    },
    {
     "name": "stderr",
     "output_type": "stream",
     "text": [
      "2021-11-29 10:07:02.902981: I tensorflow/core/grappler/optimizers/custom_graph_optimizer_registry.cc:112] Plugin optimizer for device_type GPU is enabled.\n",
      "2021-11-29 10:07:02.997356: I tensorflow/core/grappler/optimizers/custom_graph_optimizer_registry.cc:112] Plugin optimizer for device_type GPU is enabled.\n"
     ]
    },
    {
     "name": "stdout",
     "output_type": "stream",
     "text": [
      "label=[0 0 0 ... 0 0 0] pred=[0 0 0 ... 0 0 0]\n",
      "f1_score: 0.00\n"
     ]
    },
    {
     "data": {
      "image/png": "[encoded data removed]",
      "text/plain": [
       "<Figure size 432x288 with 2 Axes>"
      ]
     },
     "metadata": {
      "needs_background": "light"
     },
     "output_type": "display_data"
    }
   ],
   "source": [
    "# We down sample the train data.\n",
    "train_and_eval(df, should_down_sample=True, frac=0.001)"
   ]
  },
  {
   "cell_type": "code",
   "execution_count": 45,
   "metadata": {},
   "outputs": [
    {
     "name": "stdout",
     "output_type": "stream",
     "text": [
      "Down sample train 0.002\n",
      "Fraud Rate in (all, train, test)=(0.00116, 0.36759, 0.00115)\n"
     ]
    },
    {
     "name": "stderr",
     "output_type": "stream",
     "text": [
      "2021-11-29 10:07:03.864642: I tensorflow/core/grappler/optimizers/custom_graph_optimizer_registry.cc:112] Plugin optimizer for device_type GPU is enabled.\n",
      "2021-11-29 10:07:03.956487: I tensorflow/core/grappler/optimizers/custom_graph_optimizer_registry.cc:112] Plugin optimizer for device_type GPU is enabled.\n"
     ]
    },
    {
     "name": "stdout",
     "output_type": "stream",
     "text": [
      "label=[0 0 0 ... 0 0 0] pred=[0 0 0 ... 0 0 0]\n",
      "f1_score: 0.00\n"
     ]
    },
    {
     "data": {
      "image/png": "[encoded data removed]",
      "text/plain": [
       "<Figure size 432x288 with 2 Axes>"
      ]
     },
     "metadata": {
      "needs_background": "light"
     },
     "output_type": "display_data"
    }
   ],
   "source": [
    "# We first down sample the train data, then also use the class_weight.\n",
    "train_and_eval(df, should_down_sample=True, frac=0.002, use_class_weight=True)"
   ]
  }
 ],
 "metadata": {
  "interpreter": {
   "hash": "e3016a69a89dee9b7d8dac3f319d8da612944bcbf5c351334eed207492b9bff5"
  },
  "kernelspec": {
   "display_name": "Python 3.8.12 64-bit ('kaggle-vent': conda)",
   "language": "python",
   "name": "python3"
  },
  "language_info": {
   "codemirror_mode": {
    "name": "ipython",
    "version": 3
   },
   "file_extension": ".py",
   "mimetype": "text/x-python",
   "name": "python",
   "nbconvert_exporter": "python",
   "pygments_lexer": "ipython3",
   "version": "3.8.12"
  },
  "orig_nbformat": 4
 },
 "nbformat": 4,
 "nbformat_minor": 2
}
