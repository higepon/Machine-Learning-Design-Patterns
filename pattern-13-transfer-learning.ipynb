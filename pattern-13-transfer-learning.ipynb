{
  "cells": [
    {
      "cell_type": "markdown",
      "metadata": {},
      "source": [
        "This is copy of https://github.com/GoogleCloudPlatform/ml-design-patterns/blob/master/04_hacking_training_loop/transfer_learning.ipynb."
      ]
    },
    {
      "cell_type": "markdown",
      "metadata": {
        "colab_type": "text",
        "id": "vhyPjzWq_Xb1"
      },
      "source": [
        "## Transfer Learning Design Pattern\n",
        "\n",
        "In Transfer Learning, we take part of a previously trained model, freeze the weights, and incorporate these non-trainable layers into a new model that solves a similar problem, but on a smaller dataset. "
      ]
    },
    {
      "cell_type": "code",
      "execution_count": 1,
      "metadata": {
        "colab": {},
        "colab_type": "code",
        "id": "NikTzWZr_cxP"
      },
      "outputs": [],
      "source": [
        "import numpy as np\n",
        "import tensorflow as tf\n",
        "import tensorflow_datasets as tfds\n",
        "import tensorflow_hub as hub\n",
        "import matplotlib.pyplot as plt\n",
        "\n",
        "from tensorflow import keras\n",
        "from tensorflow.keras import Sequential"
      ]
    },
    {
      "cell_type": "markdown",
      "metadata": {
        "colab_type": "text",
        "id": "-FxRIJ0kgbj4"
      },
      "source": [
        "### Building a medical imaging classification model with Keras and VGG\n",
        "\n",
        "We'll use a [colorectal histology](https://www.tensorflow.org/datasets/catalog/colorectal_histology) dataset that comes pre-installed with TF Datasets. First we'll extract the data as a TF Dataset. Then we'll load a VGG model without the top classification layers. Finally, we'll add layers specific to our classification problem so that the final model outputs a softmax classification corresponding with 1 of the 8 classes in our dataset."
      ]
    },
    {
      "cell_type": "code",
      "execution_count": 2,
      "metadata": {
        "colab": {},
        "colab_type": "code",
        "id": "smSfugBIztMi"
      },
      "outputs": [
        {
          "name": "stderr",
          "output_type": "stream",
          "text": [
            "2021-12-01 17:31:36.296983: W tensorflow/core/platform/cloud/google_auth_provider.cc:184] All attempts to get a Google authentication bearer token failed, returning an empty token. Retrieving token from files failed with \"Not found: Could not locate the credentials file.\". Retrieving token from GCE failed with \"Failed precondition: Error executing an HTTP request: libcurl code 6 meaning 'Couldn't resolve host name', error details: Could not resolve host: metadata\".\n"
          ]
        },
        {
          "name": "stdout",
          "output_type": "stream",
          "text": [
            "\u001b[1mDownloading and preparing dataset 246.14 MiB (download: 246.14 MiB, generated: Unknown size, total: 246.14 MiB) to /Users/higepon/tensorflow_datasets/colorectal_histology/2.0.0...\u001b[0m\n"
          ]
        },
        {
          "name": "stderr",
          "output_type": "stream",
          "text": [
            "Dl Completed...: 0 url [00:00, ? url/s]\n",
            "Dl Completed...:   0%|          | 0/1 [00:00<?, ? url/s]\n",
            "Dl Completed...:   0%|          | 0/1 [00:02<?, ? url/s]\n",
            "Dl Completed...:   0%|          | 0/1 [00:08<?, ? url/s]\n",
            "Dl Completed...:   0%|          | 0/1 [00:11<?, ? url/s]\n",
            "Dl Completed...:   0%|          | 0/1 [00:13<?, ? url/s]\n",
            "Dl Completed...:   0%|          | 0/1 [00:14<?, ? url/s]\n",
            "Dl Completed...:   0%|          | 0/1 [00:15<?, ? url/s]\n",
            "Dl Completed...:   0%|          | 0/1 [00:16<?, ? url/s]\n",
            "Dl Completed...:   0%|          | 0/1 [00:16<?, ? url/s]\n",
            "Dl Completed...:   0%|          | 0/1 [00:17<?, ? url/s]\n",
            "Dl Completed...:   0%|          | 0/1 [00:18<?, ? url/s]\n",
            "Dl Completed...:   0%|          | 0/1 [00:19<?, ? url/s]\n",
            "Dl Completed...:   0%|          | 0/1 [00:19<?, ? url/s]\n",
            "Dl Completed...:   0%|          | 0/1 [00:20<?, ? url/s]\n",
            "Dl Completed...:   0%|          | 0/1 [00:21<?, ? url/s]\n",
            "Dl Completed...:   0%|          | 0/1 [00:22<?, ? url/s]\n",
            "Dl Completed...:   0%|          | 0/1 [00:22<?, ? url/s]\n",
            "Dl Completed...:   0%|          | 0/1 [00:23<?, ? url/s]\n",
            "Dl Completed...:   0%|          | 0/1 [00:24<?, ? url/s]\n",
            "Dl Completed...:   0%|          | 0/1 [00:25<?, ? url/s]\n",
            "Dl Completed...:   0%|          | 0/1 [00:25<?, ? url/s]\n",
            "Dl Completed...:   0%|          | 0/1 [00:26<?, ? url/s]\n",
            "Dl Completed...:   0%|          | 0/1 [00:27<?, ? url/s]\n",
            "Dl Completed...:   0%|          | 0/1 [00:28<?, ? url/s]\n",
            "Dl Completed...:   0%|          | 0/1 [00:28<?, ? url/s]\n",
            "Dl Completed...:   0%|          | 0/1 [00:29<?, ? url/s]\n",
            "Dl Completed...:   0%|          | 0/1 [00:30<?, ? url/s]\n",
            "Dl Completed...:   0%|          | 0/1 [00:31<?, ? url/s]\n",
            "Dl Completed...:   0%|          | 0/1 [00:31<?, ? url/s]\n",
            "Dl Completed...:   0%|          | 0/1 [00:32<?, ? url/s]\n",
            "Dl Completed...:   0%|          | 0/1 [00:33<?, ? url/s]\n",
            "Dl Completed...:   0%|          | 0/1 [00:34<?, ? url/s]\n",
            "Dl Completed...:   0%|          | 0/1 [00:36<?, ? url/s]\n",
            "Dl Completed...:   0%|          | 0/1 [00:37<?, ? url/s]\n",
            "Dl Completed...:   0%|          | 0/1 [00:38<?, ? url/s]\n",
            "Dl Completed...:   0%|          | 0/1 [00:40<?, ? url/s]\n",
            "Dl Completed...:   0%|          | 0/1 [00:43<?, ? url/s]\n",
            "Dl Completed...:   0%|          | 0/1 [00:48<?, ? url/s]\n",
            "Dl Completed...:   0%|          | 0/1 [00:53<?, ? url/s]\n",
            "Dl Completed...:   0%|          | 0/1 [00:57<?, ? url/s]\n",
            "Dl Completed...:   0%|          | 0/1 [00:59<?, ? url/s]\n",
            "Dl Completed...:   0%|          | 0/1 [01:00<?, ? url/s]\n",
            "Dl Completed...:   0%|          | 0/1 [01:01<?, ? url/s]\n",
            "Dl Completed...:   0%|          | 0/1 [01:02<?, ? url/s]\n",
            "Dl Completed...:   0%|          | 0/1 [01:03<?, ? url/s]\n",
            "Dl Completed...:   0%|          | 0/1 [01:04<?, ? url/s]\n",
            "Dl Completed...:   0%|          | 0/1 [01:04<?, ? url/s]\n",
            "Dl Completed...:   0%|          | 0/1 [01:05<?, ? url/s]\n",
            "Dl Completed...:   0%|          | 0/1 [01:05<?, ? url/s]\n",
            "Dl Completed...:   0%|          | 0/1 [01:06<?, ? url/s]\n",
            "Dl Completed...:   0%|          | 0/1 [01:06<?, ? url/s]\n",
            "Dl Completed...:   0%|          | 0/1 [01:07<?, ? url/s]\n",
            "Dl Completed...:   0%|          | 0/1 [01:07<?, ? url/s]\n",
            "Dl Completed...:   0%|          | 0/1 [01:08<?, ? url/s]\n",
            "Dl Completed...:   0%|          | 0/1 [01:08<?, ? url/s]\n",
            "Dl Completed...:   0%|          | 0/1 [01:09<?, ? url/s]\n",
            "Dl Completed...:   0%|          | 0/1 [01:10<?, ? url/s]\n",
            "Dl Completed...:   0%|          | 0/1 [01:10<?, ? url/s]\n",
            "Dl Completed...:   0%|          | 0/1 [01:11<?, ? url/s]\n",
            "Dl Completed...:   0%|          | 0/1 [01:12<?, ? url/s]\n",
            "Dl Completed...:   0%|          | 0/1 [01:13<?, ? url/s]\n",
            "Dl Completed...:   0%|          | 0/1 [01:13<?, ? url/s]\n",
            "Dl Completed...:   0%|          | 0/1 [01:14<?, ? url/s]\n",
            "Dl Completed...:   0%|          | 0/1 [01:15<?, ? url/s]\n",
            "Dl Completed...:   0%|          | 0/1 [01:15<?, ? url/s]\n",
            "Dl Completed...:   0%|          | 0/1 [01:16<?, ? url/s]\n",
            "Dl Completed...:   0%|          | 0/1 [01:17<?, ? url/s]\n",
            "Dl Completed...:   0%|          | 0/1 [01:17<?, ? url/s]\n",
            "Dl Completed...:   0%|          | 0/1 [01:18<?, ? url/s]\n",
            "Dl Completed...:   0%|          | 0/1 [01:19<?, ? url/s]\n",
            "Dl Completed...:   0%|          | 0/1 [01:20<?, ? url/s]\n",
            "Dl Completed...:   0%|          | 0/1 [01:21<?, ? url/s]\n",
            "Dl Completed...:   0%|          | 0/1 [01:21<?, ? url/s]\n",
            "Dl Completed...:   0%|          | 0/1 [01:22<?, ? url/s]\n",
            "Dl Completed...:   0%|          | 0/1 [01:23<?, ? url/s]\n",
            "Dl Completed...:   0%|          | 0/1 [01:23<?, ? url/s]\n",
            "Dl Completed...:   0%|          | 0/1 [01:24<?, ? url/s]\n",
            "Dl Completed...:   0%|          | 0/1 [01:25<?, ? url/s]\n",
            "Dl Completed...:   0%|          | 0/1 [01:25<?, ? url/s]\n",
            "Dl Completed...:   0%|          | 0/1 [01:26<?, ? url/s]\n",
            "Dl Completed...:   0%|          | 0/1 [01:27<?, ? url/s]\n",
            "Dl Completed...:   0%|          | 0/1 [01:28<?, ? url/s]\n",
            "Dl Completed...:   0%|          | 0/1 [01:30<?, ? url/s]\n",
            "Dl Completed...:   0%|          | 0/1 [01:32<?, ? url/s]\n",
            "Dl Completed...:   0%|          | 0/1 [01:35<?, ? url/s]\n",
            "Dl Completed...:   0%|          | 0/1 [01:38<?, ? url/s]\n",
            "Dl Completed...:   0%|          | 0/1 [01:41<?, ? url/s]\n",
            "Dl Completed...:   0%|          | 0/1 [01:43<?, ? url/s]\n",
            "Dl Completed...:   0%|          | 0/1 [01:46<?, ? url/s]\n",
            "Dl Completed...:   0%|          | 0/1 [01:48<?, ? url/s]\n",
            "Dl Completed...:   0%|          | 0/1 [01:50<?, ? url/s]\n",
            "Dl Completed...:   0%|          | 0/1 [01:51<?, ? url/s]\n",
            "Dl Completed...:   0%|          | 0/1 [01:53<?, ? url/s]\n",
            "Dl Completed...:   0%|          | 0/1 [01:54<?, ? url/s]\n",
            "Dl Completed...:   0%|          | 0/1 [01:55<?, ? url/s]\n",
            "Dl Completed...:   0%|          | 0/1 [01:56<?, ? url/s]\n",
            "Dl Completed...:   0%|          | 0/1 [01:57<?, ? url/s]\n",
            "Dl Completed...:   0%|          | 0/1 [01:57<?, ? url/s]\n",
            "Dl Completed...:   0%|          | 0/1 [01:58<?, ? url/s]\n",
            "Dl Completed...:   0%|          | 0/1 [01:59<?, ? url/s]\n",
            "Dl Completed...:   0%|          | 0/1 [02:00<?, ? url/s]\n",
            "Dl Completed...:   0%|          | 0/1 [02:01<?, ? url/s]\n",
            "Dl Completed...:   0%|          | 0/1 [02:01<?, ? url/s]\n",
            "Dl Completed...:   0%|          | 0/1 [02:02<?, ? url/s]\n",
            "Dl Completed...:   0%|          | 0/1 [02:03<?, ? url/s]\n",
            "Dl Completed...:   0%|          | 0/1 [02:04<?, ? url/s]\n",
            "Dl Completed...:   0%|          | 0/1 [02:04<?, ? url/s]\n",
            "Dl Completed...:   0%|          | 0/1 [02:05<?, ? url/s]\n",
            "Dl Completed...:   0%|          | 0/1 [02:05<?, ? url/s]\n",
            "Dl Completed...:   0%|          | 0/1 [02:06<?, ? url/s]\n",
            "Dl Completed...:   0%|          | 0/1 [02:07<?, ? url/s]\n",
            "Dl Completed...:   0%|          | 0/1 [02:07<?, ? url/s]\n",
            "Dl Completed...:   0%|          | 0/1 [02:08<?, ? url/s]\n",
            "Dl Completed...:   0%|          | 0/1 [02:08<?, ? url/s]\n",
            "Dl Completed...:   0%|          | 0/1 [02:09<?, ? url/s]\n",
            "Dl Completed...:   0%|          | 0/1 [02:10<?, ? url/s]\n",
            "Dl Completed...:   0%|          | 0/1 [02:11<?, ? url/s]\n",
            "Dl Completed...:   0%|          | 0/1 [02:12<?, ? url/s]\n",
            "Dl Completed...:   0%|          | 0/1 [02:12<?, ? url/s]\n",
            "Dl Completed...:   0%|          | 0/1 [02:13<?, ? url/s]\n",
            "Dl Completed...:   0%|          | 0/1 [02:14<?, ? url/s]\n",
            "Dl Completed...:   0%|          | 0/1 [02:15<?, ? url/s]\n",
            "Dl Completed...:   0%|          | 0/1 [02:16<?, ? url/s]\n",
            "Dl Completed...:   0%|          | 0/1 [02:17<?, ? url/s]\n",
            "Dl Completed...:   0%|          | 0/1 [02:18<?, ? url/s]\n",
            "Dl Completed...:   0%|          | 0/1 [02:19<?, ? url/s]\n",
            "Dl Completed...:   0%|          | 0/1 [02:19<?, ? url/s]\n",
            "Dl Completed...:   0%|          | 0/1 [02:20<?, ? url/s]\n",
            "Dl Completed...:   0%|          | 0/1 [02:21<?, ? url/s]\n",
            "Dl Completed...:   0%|          | 0/1 [02:22<?, ? url/s]\n",
            "Dl Completed...:   0%|          | 0/1 [02:22<?, ? url/s]\n",
            "Dl Completed...:   0%|          | 0/1 [02:23<?, ? url/s]\n",
            "Dl Completed...:   0%|          | 0/1 [02:24<?, ? url/s]\n",
            "Dl Completed...:   0%|          | 0/1 [02:24<?, ? url/s]\n",
            "Dl Completed...:   0%|          | 0/1 [02:25<?, ? url/s]\n",
            "Dl Completed...:   0%|          | 0/1 [02:25<?, ? url/s]\n",
            "Dl Completed...:   0%|          | 0/1 [02:26<?, ? url/s]\n",
            "Dl Completed...:   0%|          | 0/1 [02:27<?, ? url/s]\n",
            "Dl Completed...:   0%|          | 0/1 [02:28<?, ? url/s]\n",
            "Dl Completed...:   0%|          | 0/1 [02:29<?, ? url/s]\n",
            "Dl Completed...:   0%|          | 0/1 [02:29<?, ? url/s]\n",
            "Dl Completed...:   0%|          | 0/1 [02:30<?, ? url/s]\n",
            "Dl Completed...:   0%|          | 0/1 [02:31<?, ? url/s]\n",
            "Dl Completed...:   0%|          | 0/1 [02:32<?, ? url/s]\n",
            "Dl Completed...:   0%|          | 0/1 [02:33<?, ? url/s]\n",
            "Dl Completed...:   0%|          | 0/1 [02:34<?, ? url/s]\n",
            "Dl Completed...:   0%|          | 0/1 [02:34<?, ? url/s]\n",
            "Dl Completed...:   0%|          | 0/1 [02:35<?, ? url/s]\n",
            "Dl Completed...:   0%|          | 0/1 [02:36<?, ? url/s]\n",
            "Dl Completed...:   0%|          | 0/1 [02:37<?, ? url/s]\n",
            "Dl Completed...:   0%|          | 0/1 [02:38<?, ? url/s]\n",
            "Dl Completed...:   0%|          | 0/1 [02:39<?, ? url/s]\n",
            "Dl Completed...:   0%|          | 0/1 [02:40<?, ? url/s]\n",
            "Dl Completed...:   0%|          | 0/1 [02:41<?, ? url/s]\n",
            "Dl Completed...:   0%|          | 0/1 [02:43<?, ? url/s]\n",
            "Dl Completed...:   0%|          | 0/1 [02:44<?, ? url/s]\n",
            "Dl Completed...:   0%|          | 0/1 [02:48<?, ? url/s]\n",
            "Dl Completed...:   0%|          | 0/1 [02:52<?, ? url/s]\n",
            "Dl Completed...:   0%|          | 0/1 [02:56<?, ? url/s]\n",
            "Dl Completed...:   0%|          | 0/1 [03:04<?, ? url/s]\n",
            "Dl Completed...:   0%|          | 0/1 [03:09<?, ? url/s]\n",
            "Dl Completed...:   0%|          | 0/1 [03:12<?, ? url/s]\n",
            "Dl Completed...:   0%|          | 0/1 [03:14<?, ? url/s]\n",
            "Dl Completed...:   0%|          | 0/1 [03:16<?, ? url/s]\n",
            "Dl Completed...:   0%|          | 0/1 [03:19<?, ? url/s]\n",
            "Dl Completed...:   0%|          | 0/1 [03:21<?, ? url/s]\n",
            "Dl Completed...:   0%|          | 0/1 [03:24<?, ? url/s]\n",
            "Dl Completed...:   0%|          | 0/1 [03:27<?, ? url/s]\n",
            "Dl Completed...:   0%|          | 0/1 [03:29<?, ? url/s]\n",
            "Dl Completed...:   0%|          | 0/1 [03:31<?, ? url/s]\n",
            "Dl Completed...:   0%|          | 0/1 [03:33<?, ? url/s]\n",
            "Dl Completed...:   0%|          | 0/1 [03:35<?, ? url/s]\n",
            "Dl Completed...:   0%|          | 0/1 [03:36<?, ? url/s]\n",
            "Dl Completed...:   0%|          | 0/1 [03:37<?, ? url/s]\n",
            "Dl Completed...:   0%|          | 0/1 [03:38<?, ? url/s]\n",
            "Dl Completed...:   0%|          | 0/1 [03:40<?, ? url/s]\n",
            "Dl Completed...:   0%|          | 0/1 [03:41<?, ? url/s]\n",
            "Dl Completed...:   0%|          | 0/1 [03:42<?, ? url/s]\n",
            "Dl Completed...:   0%|          | 0/1 [03:43<?, ? url/s]\n",
            "Dl Completed...:   0%|          | 0/1 [03:45<?, ? url/s]\n",
            "Dl Completed...:   0%|          | 0/1 [03:46<?, ? url/s]\n",
            "Dl Completed...:   0%|          | 0/1 [03:48<?, ? url/s]\n",
            "Dl Completed...:   0%|          | 0/1 [03:50<?, ? url/s]\n",
            "Dl Completed...:   0%|          | 0/1 [03:51<?, ? url/s]\n",
            "Dl Completed...:   0%|          | 0/1 [03:53<?, ? url/s]\n",
            "Dl Completed...:   0%|          | 0/1 [03:55<?, ? url/s]\n",
            "Dl Completed...:   0%|          | 0/1 [03:58<?, ? url/s]\n",
            "Dl Completed...:   0%|          | 0/1 [04:00<?, ? url/s]\n",
            "Dl Completed...:   0%|          | 0/1 [04:03<?, ? url/s]\n",
            "Dl Completed...:   0%|          | 0/1 [04:06<?, ? url/s]\n",
            "Dl Completed...:   0%|          | 0/1 [04:11<?, ? url/s]\n",
            "Dl Completed...:   0%|          | 0/1 [04:16<?, ? url/s]\n",
            "Dl Completed...:   0%|          | 0/1 [04:20<?, ? url/s]\n",
            "Dl Completed...:   0%|          | 0/1 [04:24<?, ? url/s]\n",
            "Dl Completed...:   0%|          | 0/1 [04:26<?, ? url/s]\n",
            "Dl Completed...:   0%|          | 0/1 [04:29<?, ? url/s]\n",
            "Dl Completed...:   0%|          | 0/1 [04:32<?, ? url/s]\n",
            "Dl Completed...:   0%|          | 0/1 [04:33<?, ? url/s]\n",
            "Dl Completed...:   0%|          | 0/1 [04:35<?, ? url/s]\n",
            "Dl Completed...:   0%|          | 0/1 [04:36<?, ? url/s]\n",
            "Dl Completed...:   0%|          | 0/1 [04:37<?, ? url/s]\n",
            "Dl Completed...:   0%|          | 0/1 [04:38<?, ? url/s]\n",
            "Dl Completed...:   0%|          | 0/1 [04:38<?, ? url/s]\n",
            "Dl Completed...:   0%|          | 0/1 [04:39<?, ? url/s]\n",
            "Dl Completed...:   0%|          | 0/1 [04:39<?, ? url/s]\n",
            "Dl Completed...:   0%|          | 0/1 [04:40<?, ? url/s]\n",
            "Dl Completed...:   0%|          | 0/1 [04:40<?, ? url/s]\n",
            "Dl Completed...:   0%|          | 0/1 [04:41<?, ? url/s]\n",
            "Dl Completed...:   0%|          | 0/1 [04:41<?, ? url/s]\n",
            "Dl Completed...:   0%|          | 0/1 [04:42<?, ? url/s]\n",
            "Dl Completed...:   0%|          | 0/1 [04:42<?, ? url/s]\n",
            "Dl Completed...:   0%|          | 0/1 [04:43<?, ? url/s]\n",
            "Dl Completed...:   0%|          | 0/1 [04:43<?, ? url/s]\n",
            "Dl Completed...:   0%|          | 0/1 [04:43<?, ? url/s]\n",
            "Dl Completed...:   0%|          | 0/1 [04:44<?, ? url/s]\n",
            "Dl Completed...:   0%|          | 0/1 [04:44<?, ? url/s]\n",
            "Dl Completed...:   0%|          | 0/1 [04:44<?, ? url/s]\n",
            "Dl Completed...:   0%|          | 0/1 [04:45<?, ? url/s]\n",
            "Dl Completed...:   0%|          | 0/1 [04:45<?, ? url/s]\n",
            "Dl Completed...:   0%|          | 0/1 [04:46<?, ? url/s]\n",
            "Dl Completed...:   0%|          | 0/1 [04:46<?, ? url/s]\n",
            "Dl Completed...:   0%|          | 0/1 [04:46<?, ? url/s]\n",
            "Dl Completed...:   0%|          | 0/1 [04:47<?, ? url/s]\n",
            "Dl Completed...:   0%|          | 0/1 [04:47<?, ? url/s]\n",
            "Dl Completed...:   0%|          | 0/1 [04:47<?, ? url/s]\n",
            "Dl Completed...:   0%|          | 0/1 [04:48<?, ? url/s]\n",
            "Dl Completed...:   0%|          | 0/1 [04:48<?, ? url/s]\n",
            "Dl Completed...:   0%|          | 0/1 [04:49<?, ? url/s]\n",
            "Dl Completed...:   0%|          | 0/1 [04:49<?, ? url/s]\n",
            "Dl Completed...:   0%|          | 0/1 [04:49<?, ? url/s]\n",
            "Dl Completed...:   0%|          | 0/1 [04:50<?, ? url/s]\n",
            "Dl Completed...:   0%|          | 0/1 [04:50<?, ? url/s]\n",
            "Dl Completed...:   0%|          | 0/1 [04:51<?, ? url/s]\n",
            "Dl Completed...:   0%|          | 0/1 [04:51<?, ? url/s]\n",
            "Dl Completed...:   0%|          | 0/1 [04:52<?, ? url/s]\n",
            "Dl Completed...:   0%|          | 0/1 [04:52<?, ? url/s]\n",
            "Dl Completed...:   0%|          | 0/1 [04:53<?, ? url/s]\n",
            "Dl Completed...:   0%|          | 0/1 [04:53<?, ? url/s]\n",
            "Dl Completed...:   0%|          | 0/1 [04:54<?, ? url/s]\n",
            "Dl Completed...:   0%|          | 0/1 [04:54<?, ? url/s]\n",
            "Dl Completed...:   0%|          | 0/1 [04:55<?, ? url/s]\n",
            "Dl Completed...:   0%|          | 0/1 [04:55<?, ? url/s]\n",
            "Dl Completed...:   0%|          | 0/1 [04:56<?, ? url/s]\n",
            "Dl Completed...:   0%|          | 0/1 [04:56<?, ? url/s]\n",
            "Dl Completed...:   0%|          | 0/1 [04:57<?, ? url/s]\n",
            "Dl Completed...:   0%|          | 0/1 [04:57<?, ? url/s]\n",
            "Dl Completed...:   0%|          | 0/1 [04:58<?, ? url/s]\n",
            "Dl Completed...:   0%|          | 0/1 [04:58<?, ? url/s]\n",
            "Dl Completed...: 100%|██████████| 1/1 [04:58<00:00, 298.98s/ url]\n",
            "Dl Completed...: 100%|██████████| 1/1 [04:58<00:00, 298.98s/ url]\n",
            "\u001b[A\n",
            "Dl Completed...: 100%|██████████| 1/1 [05:02<00:00, 298.98s/ url]\n",
            "Extraction completed...: 100%|██████████| 1/1 [05:02<00:00, 302.12s/ file]\n",
            "Dl Size...: 100%|██████████| 246/246 [05:02<00:00,  1.23s/ MiB]\n",
            "Dl Completed...: 100%|██████████| 1/1 [05:02<00:00, 302.13s/ url]\n",
            "Generating splits...:   0%|          | 0/1 [00:00<?, ? splits/s]2021-12-01 17:36:41.831493: I tensorflow/core/common_runtime/pluggable_device/pluggable_device_factory.cc:305] Could not identify NUMA node of platform GPU ID 0, defaulting to 0. Your kernel may not have been built with NUMA support.\n",
            "2021-12-01 17:36:41.831624: I tensorflow/core/common_runtime/pluggable_device/pluggable_device_factory.cc:271] Created TensorFlow device (/job:localhost/replica:0/task:0/device:GPU:0 with 0 MB memory) -> physical PluggableDevice (device: 0, name: METAL, pci bus id: <undefined>)\n"
          ]
        },
        {
          "name": "stdout",
          "output_type": "stream",
          "text": [
            "Metal device set to: Apple M1 Pro\n",
            "\n",
            "systemMemory: 32.00 GB\n",
            "maxCacheSize: 10.67 GB\n",
            "\n"
          ]
        },
        {
          "name": "stderr",
          "output_type": "stream",
          "text": []
        },
        {
          "name": "stdout",
          "output_type": "stream",
          "text": [
            "\u001b[1mDataset colorectal_histology downloaded and prepared to /Users/higepon/tensorflow_datasets/colorectal_histology/2.0.0. Subsequent calls will reuse this data.\u001b[0m\n"
          ]
        }
      ],
      "source": [
        "# These images will be (150,150,3)\n",
        "(train, validation, test), info = tfds.load(\n",
        "    'colorectal_histology',\n",
        "    split=['train[:80%]', 'train[80%:90%]', 'train[90%:]'], \n",
        "    shuffle_files=True, \n",
        "    as_supervised=True,\n",
        "    with_info=True\n",
        ")"
      ]
    },
    {
      "cell_type": "code",
      "execution_count": 3,
      "metadata": {
        "colab": {
          "base_uri": "https://localhost:8080/",
          "height": 479
        },
        "colab_type": "code",
        "id": "puVkJrwGt7vZ",
        "outputId": "c920d609-3fcc-4195-a7b4-0284ea229010"
      },
      "outputs": [
        {
          "data": {
            "text/plain": [
              "tfds.core.DatasetInfo(\n",
              "    name='colorectal_histology',\n",
              "    full_name='colorectal_histology/2.0.0',\n",
              "    description=\"\"\"\n",
              "    Classification of textures in colorectal cancer histology. Each example is a 150 x 150 x 3 RGB image of one of 8 classes.\n",
              "    \"\"\",\n",
              "    homepage='https://zenodo.org/record/53169#.XGZemKwzbmG',\n",
              "    data_path='/Users/higepon/tensorflow_datasets/colorectal_histology/2.0.0',\n",
              "    download_size=246.14 MiB,\n",
              "    dataset_size=179.23 MiB,\n",
              "    features=FeaturesDict({\n",
              "        'filename': Text(shape=(), dtype=tf.string),\n",
              "        'image': Image(shape=(150, 150, 3), dtype=tf.uint8),\n",
              "        'label': ClassLabel(shape=(), dtype=tf.int64, num_classes=8),\n",
              "    }),\n",
              "    supervised_keys=('image', 'label'),\n",
              "    disable_shuffling=False,\n",
              "    splits={\n",
              "        'train': <SplitInfo num_examples=5000, num_shards=2>,\n",
              "    },\n",
              "    citation=\"\"\"@article{kather2016multi,\n",
              "      title={Multi-class texture analysis in colorectal cancer histology},\n",
              "      author={Kather, Jakob Nikolas and Weis, Cleo-Aron and Bianconi, Francesco and Melchers, Susanne M and Schad, Lothar R and Gaiser, Timo and Marx, Alexander and Z{\"o}llner, Frank Gerrit},\n",
              "      journal={Scientific reports},\n",
              "      volume={6},\n",
              "      pages={27988},\n",
              "      year={2016},\n",
              "      publisher={Nature Publishing Group}\n",
              "    }\"\"\",\n",
              ")"
            ]
          },
          "execution_count": 3,
          "metadata": {},
          "output_type": "execute_result"
        }
      ],
      "source": [
        "# Some info on the original dataset\n",
        "info"
      ]
    },
    {
      "cell_type": "code",
      "execution_count": 4,
      "metadata": {
        "colab": {},
        "colab_type": "code",
        "id": "p2B65x4euAGs"
      },
      "outputs": [],
      "source": [
        "# Utility for what each label corresponds with\n",
        "label_map = ['tumor','stroma','complex','lympho','debris','mucosa', 'adipose']"
      ]
    },
    {
      "cell_type": "code",
      "execution_count": 5,
      "metadata": {
        "colab": {
          "base_uri": "https://localhost:8080/",
          "height": 545
        },
        "colab_type": "code",
        "id": "Y1sk8GxDsLlU",
        "outputId": "80838306-50bc-491f-f8a9-27697fd4a0b0"
      },
      "outputs": [
        {
          "name": "stderr",
          "output_type": "stream",
          "text": [
            "2021-12-01 17:37:07.026680: I tensorflow/compiler/mlir/mlir_graph_optimization_pass.cc:185] None of the MLIR Optimization Passes are enabled (registered 2)\n",
            "2021-12-01 17:37:07.026895: W tensorflow/core/platform/profile_utils/cpu_utils.cc:128] Failed to get CPU frequency: 0 Hz\n"
          ]
        },
        {
          "data": {
            "image/png": "[encoded data removed]",
            "text/plain": [
              "<Figure size 432x288 with 1 Axes>"
            ]
          },
          "metadata": {
            "needs_background": "light"
          },
          "output_type": "display_data"
        },
        {
          "data": {
            "image/png": "[encoded data removed]",
            "text/plain": [
              "<Figure size 432x288 with 1 Axes>"
            ]
          },
          "metadata": {
            "needs_background": "light"
          },
          "output_type": "display_data"
        }
      ],
      "source": [
        "# Preview 2 examples from our dataset\n",
        "get_label_name = info.features['label'].int2str\n",
        "for image, label in train.take(2):\n",
        "  plt.figure()\n",
        "  plt.imshow(np.array(image))\n",
        "  plt.title(get_label_name(label))"
      ]
    },
    {
      "cell_type": "markdown",
      "metadata": {
        "colab_type": "text",
        "id": "RosKjhd7Mw5D"
      },
      "source": [
        "The labels in the original dataset are single scalar values (ranging from 0 to 7). We need to convert these to softmax arrays to train our model."
      ]
    },
    {
      "cell_type": "code",
      "execution_count": 6,
      "metadata": {
        "colab": {},
        "colab_type": "code",
        "id": "cwV9urMgzoES"
      },
      "outputs": [],
      "source": [
        "def label_format(image, label):\n",
        "  return (image, tf.one_hot(label, depth=8))\n",
        "\n",
        "train = train.map(label_format)\n",
        "validation = validation.map(label_format)\n",
        "test = test.map(label_format)"
      ]
    },
    {
      "cell_type": "code",
      "execution_count": 7,
      "metadata": {
        "colab": {},
        "colab_type": "code",
        "id": "fXfbz5M_ztVg"
      },
      "outputs": [],
      "source": [
        "# Create batches\n",
        "train_batch = train.shuffle(500).batch(32)\n",
        "val_batch = validation.batch(32)\n",
        "test_batch = test.batch(32)"
      ]
    },
    {
      "cell_type": "code",
      "execution_count": 8,
      "metadata": {
        "colab": {
          "base_uri": "https://localhost:8080/",
          "height": 34
        },
        "colab_type": "code",
        "id": "xLAFfWmvyPTD",
        "outputId": "9b26782b-88fa-4e82-cf89-9c9ad5664d40"
      },
      "outputs": [
        {
          "data": {
            "text/plain": [
              "TensorShape([32, 150, 150, 3])"
            ]
          },
          "execution_count": 8,
          "metadata": {},
          "output_type": "execute_result"
        }
      ],
      "source": [
        "for image_batch, label_batch in train_batch.take(1):\n",
        "   pass\n",
        "\n",
        "image_batch.shape"
      ]
    },
    {
      "cell_type": "code",
      "execution_count": 9,
      "metadata": {
        "colab": {},
        "colab_type": "code",
        "id": "uGC5bFmh_iEy"
      },
      "outputs": [
        {
          "name": "stdout",
          "output_type": "stream",
          "text": [
            "Downloading data from https://storage.googleapis.com/tensorflow/keras-applications/vgg19/vgg19_weights_tf_dim_ordering_tf_kernels_notop.h5\n",
            "80142336/80134624 [==============================] - 15s 0us/step\n",
            "80150528/80134624 [==============================] - 15s 0us/step\n"
          ]
        }
      ],
      "source": [
        "# Load the VGG model and set trainable to false\n",
        "vgg_model = tf.keras.applications.VGG19(\n",
        "    include_top=False, \n",
        "    weights='imagenet', \n",
        "    input_shape=((150,150,3)), \n",
        "    classifier_activation='softmax'\n",
        ")"
      ]
    },
    {
      "cell_type": "code",
      "execution_count": 10,
      "metadata": {
        "colab": {},
        "colab_type": "code",
        "id": "57uCPtloyFVf"
      },
      "outputs": [],
      "source": [
        "vgg_model.trainable = False"
      ]
    },
    {
      "cell_type": "code",
      "execution_count": 11,
      "metadata": {
        "colab": {
          "base_uri": "https://localhost:8080/",
          "height": 901
        },
        "colab_type": "code",
        "id": "dD7m5_7KAly6",
        "outputId": "a4acd0cb-d9c9-4ac5-c7a9-dfd429636993"
      },
      "outputs": [
        {
          "name": "stdout",
          "output_type": "stream",
          "text": [
            "Model: \"vgg19\"\n",
            "_________________________________________________________________\n",
            "Layer (type)                 Output Shape              Param #   \n",
            "=================================================================\n",
            "input_1 (InputLayer)         [(None, 150, 150, 3)]     0         \n",
            "_________________________________________________________________\n",
            "block1_conv1 (Conv2D)        (None, 150, 150, 64)      1792      \n",
            "_________________________________________________________________\n",
            "block1_conv2 (Conv2D)        (None, 150, 150, 64)      36928     \n",
            "_________________________________________________________________\n",
            "block1_pool (MaxPooling2D)   (None, 75, 75, 64)        0         \n",
            "_________________________________________________________________\n",
            "block2_conv1 (Conv2D)        (None, 75, 75, 128)       73856     \n",
            "_________________________________________________________________\n",
            "block2_conv2 (Conv2D)        (None, 75, 75, 128)       147584    \n",
            "_________________________________________________________________\n",
            "block2_pool (MaxPooling2D)   (None, 37, 37, 128)       0         \n",
            "_________________________________________________________________\n",
            "block3_conv1 (Conv2D)        (None, 37, 37, 256)       295168    \n",
            "_________________________________________________________________\n",
            "block3_conv2 (Conv2D)        (None, 37, 37, 256)       590080    \n",
            "_________________________________________________________________\n",
            "block3_conv3 (Conv2D)        (None, 37, 37, 256)       590080    \n",
            "_________________________________________________________________\n",
            "block3_conv4 (Conv2D)        (None, 37, 37, 256)       590080    \n",
            "_________________________________________________________________\n",
            "block3_pool (MaxPooling2D)   (None, 18, 18, 256)       0         \n",
            "_________________________________________________________________\n",
            "block4_conv1 (Conv2D)        (None, 18, 18, 512)       1180160   \n",
            "_________________________________________________________________\n",
            "block4_conv2 (Conv2D)        (None, 18, 18, 512)       2359808   \n",
            "_________________________________________________________________\n",
            "block4_conv3 (Conv2D)        (None, 18, 18, 512)       2359808   \n",
            "_________________________________________________________________\n",
            "block4_conv4 (Conv2D)        (None, 18, 18, 512)       2359808   \n",
            "_________________________________________________________________\n",
            "block4_pool (MaxPooling2D)   (None, 9, 9, 512)         0         \n",
            "_________________________________________________________________\n",
            "block5_conv1 (Conv2D)        (None, 9, 9, 512)         2359808   \n",
            "_________________________________________________________________\n",
            "block5_conv2 (Conv2D)        (None, 9, 9, 512)         2359808   \n",
            "_________________________________________________________________\n",
            "block5_conv3 (Conv2D)        (None, 9, 9, 512)         2359808   \n",
            "_________________________________________________________________\n",
            "block5_conv4 (Conv2D)        (None, 9, 9, 512)         2359808   \n",
            "_________________________________________________________________\n",
            "block5_pool (MaxPooling2D)   (None, 4, 4, 512)         0         \n",
            "=================================================================\n",
            "Total params: 20,024,384\n",
            "Trainable params: 0\n",
            "Non-trainable params: 20,024,384\n",
            "_________________________________________________________________\n"
          ]
        }
      ],
      "source": [
        "vgg_model.summary()"
      ]
    },
    {
      "cell_type": "code",
      "execution_count": 12,
      "metadata": {
        "colab": {},
        "colab_type": "code",
        "id": "GRrkSXH1ymCD"
      },
      "outputs": [],
      "source": [
        "feature_batch = vgg_model(image_batch)"
      ]
    },
    {
      "cell_type": "code",
      "execution_count": 13,
      "metadata": {
        "colab": {
          "base_uri": "https://localhost:8080/",
          "height": 34
        },
        "colab_type": "code",
        "id": "_lR3twN4yery",
        "outputId": "95b978f1-db74-4365-ba1d-7283cc6ca844"
      },
      "outputs": [
        {
          "name": "stdout",
          "output_type": "stream",
          "text": [
            "(32, 512)\n"
          ]
        }
      ],
      "source": [
        "global_avg_layer = tf.keras.layers.GlobalAveragePooling2D()\n",
        "feature_batch_avg = global_avg_layer(feature_batch)\n",
        "print(feature_batch_avg.shape)"
      ]
    },
    {
      "cell_type": "code",
      "execution_count": 14,
      "metadata": {
        "colab": {
          "base_uri": "https://localhost:8080/",
          "height": 34
        },
        "colab_type": "code",
        "id": "0eEi64ktym0H",
        "outputId": "519ec217-d417-40c2-89a1-e87acc724a73"
      },
      "outputs": [
        {
          "name": "stdout",
          "output_type": "stream",
          "text": [
            "(32, 8)\n"
          ]
        }
      ],
      "source": [
        "prediction_layer = tf.keras.layers.Dense(8, activation='softmax')\n",
        "prediction_batch = prediction_layer(feature_batch_avg)\n",
        "print(prediction_batch.shape)"
      ]
    },
    {
      "cell_type": "code",
      "execution_count": 15,
      "metadata": {
        "colab": {},
        "colab_type": "code",
        "id": "KKLOaeKpyIaK"
      },
      "outputs": [],
      "source": [
        "# Build our new model, implementing transfer learning\n",
        "colorectal_model = keras.Sequential([\n",
        "  vgg_model,\n",
        "  global_avg_layer,\n",
        "  prediction_layer\n",
        "])"
      ]
    },
    {
      "cell_type": "code",
      "execution_count": 16,
      "metadata": {
        "colab": {
          "base_uri": "https://localhost:8080/",
          "height": 255
        },
        "colab_type": "code",
        "id": "Vbaj9fz5zUGk",
        "outputId": "91773daf-ff74-4d95-eb54-658ebeac4e0e"
      },
      "outputs": [
        {
          "name": "stdout",
          "output_type": "stream",
          "text": [
            "Model: \"sequential\"\n",
            "_________________________________________________________________\n",
            "Layer (type)                 Output Shape              Param #   \n",
            "=================================================================\n",
            "vgg19 (Functional)           (None, 4, 4, 512)         20024384  \n",
            "_________________________________________________________________\n",
            "global_average_pooling2d (Gl (None, 512)               0         \n",
            "_________________________________________________________________\n",
            "dense (Dense)                (None, 8)                 4104      \n",
            "=================================================================\n",
            "Total params: 20,028,488\n",
            "Trainable params: 4,104\n",
            "Non-trainable params: 20,024,384\n",
            "_________________________________________________________________\n"
          ]
        }
      ],
      "source": [
        "colorectal_model.summary()"
      ]
    },
    {
      "cell_type": "code",
      "execution_count": 17,
      "metadata": {
        "colab": {},
        "colab_type": "code",
        "id": "d3E1Lkv4y3tY"
      },
      "outputs": [],
      "source": [
        "colorectal_model.compile(optimizer='adam',\n",
        "              loss=tf.keras.losses.CategoricalCrossentropy(from_logits=True),\n",
        "              metrics=['accuracy'])"
      ]
    },
    {
      "cell_type": "code",
      "execution_count": 18,
      "metadata": {
        "colab": {
          "base_uri": "https://localhost:8080/",
          "height": 564
        },
        "colab_type": "code",
        "id": "HEDEfwaJy3wL",
        "outputId": "10e291f6-879e-46c3-c92c-b81ea6b6a113"
      },
      "outputs": [
        {
          "name": "stdout",
          "output_type": "stream",
          "text": [
            "Epoch 1/15\n"
          ]
        },
        {
          "name": "stderr",
          "output_type": "stream",
          "text": [
            "/Users/higepon/miniforge3/envs/kaggle-vent/lib/python3.8/site-packages/keras/backend.py:4846: UserWarning: \"`categorical_crossentropy` received `from_logits=True`, but the `output` argument was produced by a sigmoid or softmax activation and thus does not represent logits. Was this intended?\"\n",
            "  warnings.warn(\n",
            "2021-12-01 17:39:28.179580: I tensorflow/core/grappler/optimizers/custom_graph_optimizer_registry.cc:112] Plugin optimizer for device_type GPU is enabled.\n"
          ]
        },
        {
          "name": "stdout",
          "output_type": "stream",
          "text": [
            "125/125 [==============================] - ETA: 0s - loss: 2.4998 - accuracy: 0.5685"
          ]
        },
        {
          "name": "stderr",
          "output_type": "stream",
          "text": [
            "2021-12-01 17:39:46.980795: I tensorflow/core/grappler/optimizers/custom_graph_optimizer_registry.cc:112] Plugin optimizer for device_type GPU is enabled.\n"
          ]
        },
        {
          "name": "stdout",
          "output_type": "stream",
          "text": [
            "125/125 [==============================] - 21s 167ms/step - loss: 2.4998 - accuracy: 0.5685 - val_loss: 1.1302 - val_accuracy: 0.7180\n",
            "Epoch 2/15\n",
            "125/125 [==============================] - 21s 165ms/step - loss: 0.9403 - accuracy: 0.7528 - val_loss: 0.7559 - val_accuracy: 0.7860\n",
            "Epoch 3/15\n",
            "125/125 [==============================] - 21s 166ms/step - loss: 0.6518 - accuracy: 0.8043 - val_loss: 0.6494 - val_accuracy: 0.8180\n",
            "Epoch 4/15\n",
            "125/125 [==============================] - 21s 165ms/step - loss: 0.5031 - accuracy: 0.8428 - val_loss: 0.5662 - val_accuracy: 0.8260\n",
            "Epoch 5/15\n",
            "125/125 [==============================] - 21s 166ms/step - loss: 0.4188 - accuracy: 0.8618 - val_loss: 0.5621 - val_accuracy: 0.8420\n",
            "Epoch 6/15\n",
            "125/125 [==============================] - 21s 166ms/step - loss: 0.3542 - accuracy: 0.8790 - val_loss: 0.5347 - val_accuracy: 0.8340\n",
            "Epoch 7/15\n",
            "125/125 [==============================] - 21s 166ms/step - loss: 0.3146 - accuracy: 0.8858 - val_loss: 0.5117 - val_accuracy: 0.8500\n",
            "Epoch 8/15\n",
            "125/125 [==============================] - 21s 165ms/step - loss: 0.2756 - accuracy: 0.9033 - val_loss: 0.4857 - val_accuracy: 0.8460\n",
            "Epoch 9/15\n",
            "125/125 [==============================] - 21s 165ms/step - loss: 0.2556 - accuracy: 0.9128 - val_loss: 0.5052 - val_accuracy: 0.8580\n",
            "Epoch 10/15\n",
            "125/125 [==============================] - 21s 165ms/step - loss: 0.2296 - accuracy: 0.9210 - val_loss: 0.4939 - val_accuracy: 0.8420\n",
            "Epoch 11/15\n",
            "125/125 [==============================] - 21s 166ms/step - loss: 0.2204 - accuracy: 0.9245 - val_loss: 0.4797 - val_accuracy: 0.8560\n",
            "Epoch 12/15\n",
            "125/125 [==============================] - 21s 168ms/step - loss: 0.2091 - accuracy: 0.9258 - val_loss: 0.4647 - val_accuracy: 0.8600\n",
            "Epoch 13/15\n",
            "125/125 [==============================] - 21s 165ms/step - loss: 0.1922 - accuracy: 0.9315 - val_loss: 0.4965 - val_accuracy: 0.8520\n",
            "Epoch 14/15\n",
            "125/125 [==============================] - 21s 164ms/step - loss: 0.1821 - accuracy: 0.9378 - val_loss: 0.4746 - val_accuracy: 0.8680\n",
            "Epoch 15/15\n",
            "125/125 [==============================] - 21s 165ms/step - loss: 0.1687 - accuracy: 0.9440 - val_loss: 0.4761 - val_accuracy: 0.8640\n"
          ]
        },
        {
          "data": {
            "text/plain": [
              "<keras.callbacks.History at 0x2bb8597c0>"
            ]
          },
          "execution_count": 18,
          "metadata": {},
          "output_type": "execute_result"
        }
      ],
      "source": [
        "colorectal_model.fit(\n",
        "    train_batch,\n",
        "    validation_data=val_batch,\n",
        "    epochs=15\n",
        ")"
      ]
    },
    {
      "cell_type": "markdown",
      "metadata": {
        "colab_type": "text",
        "id": "Pzwo1SRsRzEO"
      },
      "source": [
        "### Building a text classification model with TF Hub\n",
        "\n",
        "We'll use the [IMDB movie review dataset](https://www.tensorflow.org/datasets/catalog/imdb_reviews) from TF Datasets. This contains 50k movie reviews with polarized sentiment. The goal is to train a model to predict whether a review is positive or negative. We'll use TF Hub to build the first layer of our model."
      ]
    },
    {
      "cell_type": "code",
      "execution_count": 19,
      "metadata": {
        "colab": {},
        "colab_type": "code",
        "id": "yiAG_MFig9Wy"
      },
      "outputs": [
        {
          "name": "stdout",
          "output_type": "stream",
          "text": [
            "\u001b[1mDownloading and preparing dataset 80.23 MiB (download: 80.23 MiB, generated: Unknown size, total: 80.23 MiB) to /Users/higepon/tensorflow_datasets/imdb_reviews/plain_text/1.0.0...\u001b[0m\n"
          ]
        },
        {
          "name": "stderr",
          "output_type": "stream",
          "text": [
            "Dl Size...: 100%|██████████| 80/80 [00:24<00:00,  3.26 MiB/s]\n",
            "Dl Completed...: 100%|██████████| 1/1 [00:24<00:00, 24.56s/ url]\n",
            "                                                                        "
          ]
        },
        {
          "name": "stdout",
          "output_type": "stream",
          "text": [
            "\u001b[1mDataset imdb_reviews downloaded and prepared to /Users/higepon/tensorflow_datasets/imdb_reviews/plain_text/1.0.0. Subsequent calls will reuse this data.\u001b[0m\n"
          ]
        },
        {
          "name": "stderr",
          "output_type": "stream",
          "text": []
        }
      ],
      "source": [
        "# Get the data and split into train, test, validate\n",
        "reviews_train, reviews_validate, reviews_test = tfds.load(\n",
        "    'imdb_reviews', \n",
        "    split=('train[:80%]', 'train[80%:90%]', 'test'),\n",
        "    as_supervised=True\n",
        ")"
      ]
    },
    {
      "cell_type": "markdown",
      "metadata": {
        "colab_type": "text",
        "id": "fkYV9_NjY9Bd"
      },
      "source": [
        "Since this is already formatted as a `tf.Data.dataset`, we'll preview it by iterating over the first five examples. You should see the review and its corresponding rating. 0 is negative, 1 is positive. When we built our model, we'll use sigmoid as the output since this is a binary classification task."
      ]
    },
    {
      "cell_type": "code",
      "execution_count": 20,
      "metadata": {
        "colab": {
          "base_uri": "https://localhost:8080/",
          "height": 292
        },
        "colab_type": "code",
        "id": "MjdFNbtlUPfh",
        "outputId": "0d22e40f-3413-44a3-e415-1601121b6d2b"
      },
      "outputs": [
        {
          "name": "stdout",
          "output_type": "stream",
          "text": [
            "Review text b\"This was an absolutely terrible movie. Don't be lured in by Christopher Walken or Michael Ironside. Both are great actors, but this must simply be their worst role in history. Even their great acting could not redeem this movie's ridiculous storyline. This movie is an early nineties US propaganda piece. The most pathetic scenes were those when the Columbian rebels were making their cases for revolutions. Maria Conchita Alonso appeared phony, and her pseudo-love affair with Walken was nothing but a pathetic emotional plug in a movie that was devoid of any real meaning. I am disappointed that there are movies like this, ruining actor's like Christopher Walken's good name. I could barely sit through it.\"\n",
            "Review sentiment 0 \n",
            "\n",
            "Review text b'I have been known to fall asleep during films, but this is usually due to a combination of things including, really tired, being warm and comfortable on the sette and having just eaten a lot. However on this occasion I fell asleep because the film was rubbish. The plot development was constant. Constantly slow and boring. Things seemed to happen, but with no explanation of what was causing them or why. I admit, I may have missed part of the film, but i watched the majority of it and everything just seemed to happen of its own accord without any real concern for anything else. I cant recommend this film at all.'\n",
            "Review sentiment 0 \n",
            "\n",
            "Review text b'Mann photographs the Alberta Rocky Mountains in a superb fashion, and Jimmy Stewart and Walter Brennan give enjoyable performances as they always seem to do. <br /><br />But come on Hollywood - a Mountie telling the people of Dawson City, Yukon to elect themselves a marshal (yes a marshal!) and to enforce the law themselves, then gunfighters battling it out on the streets for control of the town? <br /><br />Nothing even remotely resembling that happened on the Canadian side of the border during the Klondike gold rush. Mr. Mann and company appear to have mistaken Dawson City for Deadwood, the Canadian North for the American Wild West.<br /><br />Canadian viewers be prepared for a Reefer Madness type of enjoyable howl with this ludicrous plot, or, to shake your head in disgust.'\n",
            "Review sentiment 0 \n",
            "\n",
            "Review text b'This is the kind of film for a snowy Sunday afternoon when the rest of the world can go ahead with its own business as you descend into a big arm-chair and mellow for a couple of hours. Wonderful performances from Cher and Nicolas Cage (as always) gently row the plot along. There are no rapids to cross, no dangerous waters, just a warm and witty paddle through New York life at its best. A family film in every sense and one that deserves the praise it received.'\n",
            "Review sentiment 1 \n",
            "\n",
            "Review text b'As others have mentioned, all the women that go nude in this film are mostly absolutely gorgeous. The plot very ably shows the hypocrisy of the female libido. When men are around they want to be pursued, but when no \"men\" are around, they become the pursuers of a 14 year old boy. And the boy becomes a man really fast (we should all be so lucky at this age!). He then gets up the courage to pursue his true love.'\n",
            "Review sentiment 1 \n",
            "\n"
          ]
        },
        {
          "name": "stderr",
          "output_type": "stream",
          "text": [
            "2021-12-01 17:45:23.904349: W tensorflow/core/kernels/data/cache_dataset_ops.cc:768] The calling iterator did not fully read the dataset being cached. In order to avoid unexpected truncation of the dataset, the partially cached contents of the dataset  will be discarded. This can happen if you have an input pipeline similar to `dataset.cache().take(k).repeat()`. You should use `dataset.take(k).cache().repeat()` instead.\n"
          ]
        }
      ],
      "source": [
        "for i in reviews_train.take(5):\n",
        "  print('Review text', i[0].numpy())\n",
        "  print('Review sentiment', i[1].numpy(), '\\n')"
      ]
    },
    {
      "cell_type": "markdown",
      "metadata": {
        "colab_type": "text",
        "id": "_QnlohWMZvYV"
      },
      "source": [
        "Here we'll import a TF Hub module for text classification. Because we're using TF Hub, we can feed the data to our model directly as strings. We don't need to worry about preprocessing since TF Hub will handle converting the text to embeddings for us."
      ]
    },
    {
      "cell_type": "code",
      "execution_count": 21,
      "metadata": {
        "colab": {},
        "colab_type": "code",
        "id": "eG7IH_url883"
      },
      "outputs": [
        {
          "name": "stderr",
          "output_type": "stream",
          "text": [
            "2021-12-01 17:45:25.957937: I tensorflow/core/grappler/optimizers/custom_graph_optimizer_registry.cc:112] Plugin optimizer for device_type GPU is enabled.\n"
          ]
        }
      ],
      "source": [
        "hub_layer = hub.KerasLayer(\"https://tfhub.dev/google/tf2-preview/gnews-swivel-20dim/1\",\n",
        "                           input_shape=[], dtype=tf.string, trainable=True)"
      ]
    },
    {
      "cell_type": "markdown",
      "metadata": {
        "colab_type": "text",
        "id": "mQRy_BgybQFc"
      },
      "source": [
        "To see what the TF Hub layer is doing, let's see the embedding for an example sentence."
      ]
    },
    {
      "cell_type": "code",
      "execution_count": 22,
      "metadata": {
        "colab": {
          "base_uri": "https://localhost:8080/",
          "height": 102
        },
        "colab_type": "code",
        "id": "BeO9-92XbVq-",
        "outputId": "cc92e394-d4de-422b-ea9a-7d53774a204a"
      },
      "outputs": [
        {
          "name": "stdout",
          "output_type": "stream",
          "text": [
            "tf.Tensor(\n",
            "[[ 0.3780208  -0.8602792   0.47116035  0.87798494 -1.6212037  -0.93068135\n",
            "  -0.15095684  0.24388756 -0.6550514   0.12114644 -1.3243198   0.73917985\n",
            "   0.52290976  0.6004198  -1.0018169   0.27700785  1.8433737   0.11805207\n",
            "  -0.1830085  -0.6638955 ]], shape=(1, 20), dtype=float32)\n"
          ]
        },
        {
          "name": "stderr",
          "output_type": "stream",
          "text": [
            "2021-12-01 17:45:25.988356: I tensorflow/core/grappler/optimizers/custom_graph_optimizer_registry.cc:112] Plugin optimizer for device_type GPU is enabled.\n"
          ]
        }
      ],
      "source": [
        "test_embedding = hub_layer([\"I'm excited to try out transfer learning with TF Hub\"])\n",
        "print(test_embedding)"
      ]
    },
    {
      "cell_type": "code",
      "execution_count": 23,
      "metadata": {
        "colab": {
          "base_uri": "https://localhost:8080/",
          "height": 255
        },
        "colab_type": "code",
        "id": "nGzKPwDbl9Rv",
        "outputId": "c170ac70-9f29-40b3-e3b6-f61cf41a9ed1"
      },
      "outputs": [
        {
          "name": "stdout",
          "output_type": "stream",
          "text": [
            "Model: \"sequential_1\"\n",
            "_________________________________________________________________\n",
            "Layer (type)                 Output Shape              Param #   \n",
            "=================================================================\n",
            "keras_layer (KerasLayer)     (None, 20)                400020    \n",
            "_________________________________________________________________\n",
            "dense_1 (Dense)              (None, 32)                672       \n",
            "_________________________________________________________________\n",
            "dense_2 (Dense)              (None, 1)                 33        \n",
            "=================================================================\n",
            "Total params: 400,725\n",
            "Trainable params: 400,725\n",
            "Non-trainable params: 0\n",
            "_________________________________________________________________\n"
          ]
        }
      ],
      "source": [
        "model = keras.Sequential([\n",
        "  hub_layer,\n",
        "  keras.layers.Dense(32, activation='relu'),\n",
        "  keras.layers.Dense(1, activation='sigmoid')                          \n",
        "])\n",
        "\n",
        "model.summary()"
      ]
    },
    {
      "cell_type": "code",
      "execution_count": 24,
      "metadata": {
        "colab": {},
        "colab_type": "code",
        "id": "rdDvNGRnTyrJ"
      },
      "outputs": [],
      "source": [
        "model.compile(optimizer='adam',\n",
        "              loss=tf.keras.losses.BinaryCrossentropy(from_logits=True),\n",
        "              metrics=['accuracy'])"
      ]
    },
    {
      "cell_type": "code",
      "execution_count": 29,
      "metadata": {
        "colab": {
          "base_uri": "https://localhost:8080/",
          "height": 564
        },
        "colab_type": "code",
        "id": "xuQ4EYT1oo2J",
        "outputId": "d1eb88c4-e8f0-49c8-fb6d-adb0ebc8ef1b"
      },
      "outputs": [
        {
          "name": "stdout",
          "output_type": "stream",
          "text": [
            "Epoch 1/30\n",
            "40/40 [==============================] - 1s 34ms/step - loss: 0.1693 - accuracy: 0.9425 - val_loss: 0.2927 - val_accuracy: 0.8832\n",
            "Epoch 2/30\n",
            "40/40 [==============================] - 1s 34ms/step - loss: 0.1577 - accuracy: 0.9477 - val_loss: 0.2912 - val_accuracy: 0.8852\n",
            "Epoch 3/30\n",
            "40/40 [==============================] - 1s 34ms/step - loss: 0.1472 - accuracy: 0.9525 - val_loss: 0.2933 - val_accuracy: 0.8840\n",
            "Epoch 4/30\n",
            "40/40 [==============================] - 1s 34ms/step - loss: 0.1385 - accuracy: 0.9562 - val_loss: 0.2988 - val_accuracy: 0.8800\n",
            "Epoch 5/30\n",
            "40/40 [==============================] - 1s 35ms/step - loss: 0.1299 - accuracy: 0.9586 - val_loss: 0.3016 - val_accuracy: 0.8792\n",
            "Epoch 6/30\n",
            "40/40 [==============================] - 1s 36ms/step - loss: 0.1222 - accuracy: 0.9619 - val_loss: 0.3007 - val_accuracy: 0.8832\n",
            "Epoch 7/30\n",
            "40/40 [==============================] - 2s 36ms/step - loss: 0.1138 - accuracy: 0.9659 - val_loss: 0.3072 - val_accuracy: 0.8812\n",
            "Epoch 8/30\n",
            "40/40 [==============================] - 1s 36ms/step - loss: 0.1065 - accuracy: 0.9684 - val_loss: 0.3128 - val_accuracy: 0.8792\n",
            "Epoch 9/30\n",
            "40/40 [==============================] - 1s 35ms/step - loss: 0.1024 - accuracy: 0.9692 - val_loss: 0.3238 - val_accuracy: 0.8776\n",
            "Epoch 10/30\n",
            "40/40 [==============================] - 1s 35ms/step - loss: 0.0970 - accuracy: 0.9714 - val_loss: 0.3261 - val_accuracy: 0.8776\n",
            "Epoch 11/30\n",
            "40/40 [==============================] - 1s 34ms/step - loss: 0.0901 - accuracy: 0.9739 - val_loss: 0.3314 - val_accuracy: 0.8780\n",
            "Epoch 12/30\n",
            "40/40 [==============================] - 1s 35ms/step - loss: 0.0830 - accuracy: 0.9774 - val_loss: 0.3331 - val_accuracy: 0.8772\n",
            "Epoch 13/30\n",
            "40/40 [==============================] - 1s 36ms/step - loss: 0.0798 - accuracy: 0.9785 - val_loss: 0.3391 - val_accuracy: 0.8776\n",
            "Epoch 14/30\n",
            "40/40 [==============================] - 1s 34ms/step - loss: 0.0728 - accuracy: 0.9818 - val_loss: 0.3435 - val_accuracy: 0.8768\n",
            "Epoch 15/30\n",
            "40/40 [==============================] - 1s 33ms/step - loss: 0.0683 - accuracy: 0.9839 - val_loss: 0.3523 - val_accuracy: 0.8740\n",
            "Epoch 16/30\n",
            "40/40 [==============================] - 1s 33ms/step - loss: 0.0646 - accuracy: 0.9855 - val_loss: 0.3598 - val_accuracy: 0.8728\n",
            "Epoch 17/30\n",
            "40/40 [==============================] - 1s 33ms/step - loss: 0.0614 - accuracy: 0.9854 - val_loss: 0.3765 - val_accuracy: 0.8708\n",
            "Epoch 18/30\n",
            "40/40 [==============================] - 1s 34ms/step - loss: 0.0569 - accuracy: 0.9883 - val_loss: 0.3739 - val_accuracy: 0.8720\n",
            "Epoch 19/30\n",
            "40/40 [==============================] - 1s 33ms/step - loss: 0.0531 - accuracy: 0.9896 - val_loss: 0.3840 - val_accuracy: 0.8728\n",
            "Epoch 20/30\n",
            "40/40 [==============================] - 1s 34ms/step - loss: 0.0505 - accuracy: 0.9900 - val_loss: 0.3913 - val_accuracy: 0.8712\n",
            "Epoch 21/30\n",
            "40/40 [==============================] - 1s 34ms/step - loss: 0.0464 - accuracy: 0.9921 - val_loss: 0.4034 - val_accuracy: 0.8704\n",
            "Epoch 22/30\n",
            "40/40 [==============================] - 1s 33ms/step - loss: 0.0438 - accuracy: 0.9927 - val_loss: 0.4148 - val_accuracy: 0.8696\n",
            "Epoch 23/30\n",
            "40/40 [==============================] - 1s 33ms/step - loss: 0.0405 - accuracy: 0.9940 - val_loss: 0.4183 - val_accuracy: 0.8712\n",
            "Epoch 24/30\n",
            "40/40 [==============================] - 1s 34ms/step - loss: 0.0376 - accuracy: 0.9951 - val_loss: 0.4224 - val_accuracy: 0.8672\n",
            "Epoch 25/30\n",
            "40/40 [==============================] - 1s 34ms/step - loss: 0.0355 - accuracy: 0.9955 - val_loss: 0.4330 - val_accuracy: 0.8672\n",
            "Epoch 26/30\n",
            "40/40 [==============================] - 1s 33ms/step - loss: 0.0330 - accuracy: 0.9959 - val_loss: 0.4406 - val_accuracy: 0.8676\n",
            "Epoch 27/30\n",
            "40/40 [==============================] - 1s 34ms/step - loss: 0.0308 - accuracy: 0.9963 - val_loss: 0.4475 - val_accuracy: 0.8672\n",
            "Epoch 28/30\n",
            "40/40 [==============================] - 1s 33ms/step - loss: 0.0295 - accuracy: 0.9968 - val_loss: 0.4587 - val_accuracy: 0.8652\n",
            "Epoch 29/30\n",
            "40/40 [==============================] - 1s 35ms/step - loss: 0.0266 - accuracy: 0.9972 - val_loss: 0.4673 - val_accuracy: 0.8648\n",
            "Epoch 30/30\n",
            "40/40 [==============================] - 1s 33ms/step - loss: 0.0253 - accuracy: 0.9975 - val_loss: 0.4786 - val_accuracy: 0.8644\n"
          ]
        },
        {
          "data": {
            "text/plain": [
              "<keras.callbacks.History at 0x2f448d910>"
            ]
          },
          "execution_count": 29,
          "metadata": {},
          "output_type": "execute_result"
        }
      ],
      "source": [
        "# Note: you can train for more epochs to get higher accuracy\n",
        "model.fit(\n",
        "    reviews_train.shuffle(10000).batch(512), \n",
        "    validation_data=reviews_validate.batch(512), \n",
        "    epochs=30\n",
        ")"
      ]
    },
    {
      "cell_type": "code",
      "execution_count": 30,
      "metadata": {
        "colab": {
          "base_uri": "https://localhost:8080/",
          "height": 34
        },
        "colab_type": "code",
        "id": "07uyqIuOXshL",
        "outputId": "92767d9d-63af-45c9-9bdb-d87fd8e62305"
      },
      "outputs": [
        {
          "name": "stdout",
          "output_type": "stream",
          "text": [
            "49/49 [==============================] - 1s 20ms/step - loss: 0.5452 - accuracy: 0.8476\n"
          ]
        }
      ],
      "source": [
        "# Evaluate the model\n",
        "results = model.evaluate(reviews_test.batch(512))"
      ]
    },
    {
      "cell_type": "markdown",
      "metadata": {
        "colab_type": "text",
        "id": "1cVZ1gn1c2Fn"
      },
      "source": [
        "Here we'll generate predictions on example from our test dataset, and print out the first 10 predictions along with their corresponding review text. \n",
        "\n",
        "The output of our model is a value between 0 and 1. Values close to 0 indicate a confident negative review, and values close to 1 indicate a confident positive review."
      ]
    },
    {
      "cell_type": "code",
      "execution_count": 27,
      "metadata": {
        "colab": {},
        "colab_type": "code",
        "id": "jtfLY1mNTx58"
      },
      "outputs": [
        {
          "name": "stderr",
          "output_type": "stream",
          "text": [
            "2021-12-01 17:45:48.864394: I tensorflow/core/grappler/optimizers/custom_graph_optimizer_registry.cc:112] Plugin optimizer for device_type GPU is enabled.\n"
          ]
        }
      ],
      "source": [
        "prediction = model.predict(reviews_test.batch(512))"
      ]
    },
    {
      "cell_type": "code",
      "execution_count": 28,
      "metadata": {
        "colab": {
          "base_uri": "https://localhost:8080/",
          "height": 547
        },
        "colab_type": "code",
        "id": "SghuuvU0X2LK",
        "outputId": "7787b78a-b67a-4b0c-a856-3cd26bf88d2b"
      },
      "outputs": [
        {
          "name": "stdout",
          "output_type": "stream",
          "text": [
            "tf.Tensor(b\"There are films that make careers. For George Romero, it was NIGHT OF THE LIVING DEAD; for Kevin Smith, CLERKS; for Robert Rodriguez, EL MARIACHI. Add to that list Onur Tukel's absolutely amazing DING-A-LING-LESS. Flawless film-making, and as assured and as professional as any of the aforementioned movies. I haven't laughed this hard since I saw THE FULL MONTY. (And, even then, I don't think I laughed quite this hard... So to speak.) Tukel's talent is considerable: DING-A-LING-LESS is so chock full of double entendres that one would have to sit down with a copy of this script and do a line-by-line examination of it to fully appreciate the, uh, breadth and width of it. Every shot is beautifully composed (a clear sign of a sure-handed director), and the performances all around are solid (there's none of the over-the-top scenery chewing one might've expected from a film like this). DING-A-LING-LESS is a film whose time has come.\", shape=(), dtype=string)\n",
            "0.39972892\n",
            "\n",
            "tf.Tensor(b\"A blackly comic tale of a down-trodden priest, Nazarin showcases the economy that Luis Bunuel was able to achieve in being able to tell a deeply humanist fable with a minimum of fuss. As an output from his Mexican era of film making, it was an invaluable talent to possess, with little money and extremely tight schedules. Nazarin, however, surpasses many of Bunuel's previous Mexican films in terms of the acting (Francisco Rabal is excellent), narrative and theme.<br /><br />The theme, interestingly, is something that was explored again in Viridiana, made three years later in Spain. It concerns the individual's struggle for humanity and altruism amongst a society that rejects any notion of virtue. Father Nazarin, however, is portrayed more sympathetically than Sister Viridiana. Whereas the latter seems to choose charity because she wishes to atone for her (perceived) sins, Nazarin's whole existence and reason for being seems to be to help others, whether they (or we) like it or not. The film's last scenes, in which he casts doubt on his behaviour and, in a split second, has to choose between the life he has been leading or the conventional life that is expected of a priest, are so emotional because they concern his moral integrity and we are never quite sure whether it remains intact or not.<br /><br />This is a remarkable film and I would urge anyone interested in classic cinema to seek it out. It is one of Bunuel's most moving films, and encapsulates many of his obsessions: frustrated desire, mad love, religious hypocrisy etc. In my view 'Nazarin' is second only to 'The Exterminating Angel', in terms of his Mexican movies, and is certainly near the top of the list of Bunuel's total filmic output.\", shape=(), dtype=string)\n",
            "0.90737283\n",
            "\n",
            "tf.Tensor(b'Scary Movie 1-4, Epic Movie, Date Movie, Meet the Spartans, Not another Teen Movie and Another Gay Movie. Making \"Superhero Movie\" the eleventh in a series that single handily ruined the parody genre. Now I\\'ll admit it I have a soft spot for classics such as Airplane and The Naked Gun but you know you\\'ve milked a franchise so bad when you can see the gags a mile off. In fact the only thing that might really temp you into going to see this disaster is the incredibly funny but massive sell-out Leslie Neilson.<br /><br />You can tell he needs the money, wither that or he intends to go down with the ship like a good Capitan would. In no way is he bringing down this genre but hell he\\'s not helping it. But if I feel sorry for anybody in this film its decent actor Drake Bell who is put through an immense amount of embarrassment. The people who are put through the largest amount of torture by far however is the audience forced to sit through 90 minutes of laughless bile no funnier than herpes.<br /><br />After spoofing disaster films in Airplane!, police shows in The Naked Gun, and Hollywood horrors in Scary Movie 3 and 4, producer David Zucker sets his satirical sights on the superhero genre with this anarchic comedy lampooning everything from Spider-Man to X-Men and Superman Returns.<br /><br />Shortly after being bitten by a genetically altered dragonfly, high-school outcast Rick Riker (Drake Bell) begins to experience a startling transformation. Now Rick\\'s skin is as strong as steel, and he possesses the strength of ten men. Determined to use his newfound powers to fight crime, Rick creates a special costume and assumes the identity of The Dragonfly -- a fearless crime fighter dedicated to keeping the streets safe for law-abiding citizens.<br /><br />But every superhero needs a nemesis, and after Lou Landers (Christopher McDonald) is caught in the middle of an experiment gone horribly awry, he develops the power to leech the life force out of anyone he meets and becomes the villainous Hourglass. Intent on achieving immortality, the Hourglass attempts to gather as much life force as possible as the noble Dragonfly sets out to take down his archenemy and realize his destiny as a true hero. Craig Mazin writes and directs this low-flying spoof.<br /><br />featuring Tracy Morgan, Pamela Anderson, Leslie Nielsen, Marion Ross, Jeffrey Tambor, and Regina Hall.<br /><br />Hell Superhero Movie may earn some merit in the fact that it\\'s a hell of a lot better than Meet the Spartans and Epic Movie. But with great responsibility comes one of the worst outings of 2008 to date. Laughless but a little less irritating than Meet the Spartans. And in the same sense much more forgettable than meet the Spartans. But maybe that\\'s a good reason. There are still some of us trying to scrape away the stain that was Meet the Spartans from our memory.<br /><br />My final verdict? Avoid, unless you\\'re one of thoses people who enjoy such car crash cinema. As bad as Date Movie and Scary Movie 2 but not quite as bad as Meet the Spartans or Epic Movie. Super Villain.', shape=(), dtype=string)\n",
            "0.03481798\n",
            "\n",
            "tf.Tensor(b'Poor Shirley MacLaine tries hard to lend some gravitas to this mawkish, gag-inducing \"feel-good\" movie, but she\\'s trampled by the run-away sentimentality of a film that\\'s not the least bit grounded in reality.<br /><br />This was directed by Curtis Hanson? Did he have a lobotomy since we last heard from him? Hanson can do effective drama sprinkled with comedy, as evidenced by \"Wonder Boys.\" So I don\\'t know what happened to him here. This is the kind of movie that doesn\\'t want to accept that life is messy and fussy, and that neat, tidy endings (however implausible they might be) might make for a nice closing shot, but come across as utterly phony if the people watching the film have been through anything remotely like what the characters in the film go through.<br /><br />My wife and I made a game of calling out the plot points before they occurred -- e.g. \"the old man\\'s going to teach her to read and then drop dead.\" Bingo! This is one of those movies where the characters give little speeches summarizing their emotional problems, making you wonder why they still have emotional problems if they\\'re that aware of what\\'s causing them. Toni Collette (a fine actress, by the way, and one of my favorites if not given a lot to work with here), gives a speech early on about why she buys so many shoes and never wears them, spelling out in flashing neon the film\\'s awkward connecting motif. At that moment, I knew what I was in for, and the film was a downward spiral from there.<br /><br />Grade: C-', shape=(), dtype=string)\n",
            "0.099308595\n",
            "\n",
            "tf.Tensor(b'As a former Erasmus student I enjoyed this film very much. It was so realistic and funny. It really picked up the spirit that exists among Erasmus students. I hope, many other students will follow this experience, too. However, I wonder if this movie is all that interesting to watch for people with no international experience. But at least one of my friends who has never gone on Erasmus also enjoyed it very much. I give it 9 out of 10.', shape=(), dtype=string)\n",
            "0.9816378\n",
            "\n",
            "tf.Tensor(b\"My God, Ryan Gosling has made a lot of deep characters in his career, this is one of his wonderful acting jobs. For me this is a very deep movie, needs a lot of concentration, not because is difficult to watch, just because you understand it if you put your shoes in this kid, even though has everything and has famous father that is a writer, has a deeper mind, you don't understand why he kills this poor kid, until you really heard what he has to say and you start to think, at least to me, that a lot of things that he says is true. Simple kid, sweet, very gentle, in a way normal like any teenage, but inside of him suffer because he start to look at the world in a different way, then you understand why he did what he did. I recommend this movie for those who likes deep drama.\", shape=(), dtype=string)\n",
            "0.9916794\n",
            "\n",
            "tf.Tensor(b\"This film just won the best film award at the Cleveland International Film Festival. It's American title apparently is Autumn Spring. The acting is superb. The story takes you into the life of an elderly man who takes what life deals him and spikes it up a little bit. Abetted by his best friend (and partner in not-so-serious crime) he puts people on at every opportunity but still often reveals his heart of gold. His longsuffering wife has come to her wits end and makes a life-changing decision which is heartbreaking to watch. The resolution of the story is beautiful.\", shape=(), dtype=string)\n",
            "0.99964964\n",
            "\n",
            "tf.Tensor(b'The cast for this production of Rigoletto is excellent. Edita Gruberova sings Gilda magnificently and passionately. Luciano Pavarotti also sings splendidly. Vergara is a fine Maddalena; Fedora Barbieri is a famous older singer who sings the maid, Giovanna. Weikl sings Marullo; Wixell sings both Rigoletto and Monterone. As Rigoletto, Wixell is probably the most convincing acting singer in this hard-to-beat ensemble of great singers. Kathleen Kuhlmann in the Contessa. All principals are well-known and world-renowned.<br /><br />This is an exciting Rigoletto visually as well as musically.<br /><br />I have it on both laser disc and DVD. You should have it too!', shape=(), dtype=string)\n",
            "0.99636805\n",
            "\n",
            "tf.Tensor(b'As long as you keep in mind that the production of this movie was a copyright ploy, and not intended as a serious release, it is actually surprising how not absolutely horrible it is. I even liked the theme music.<br /><br />And if ever a flick cried out for a treatment by Joel (or Mike) and the MST3K Bots, this is it! Watch this with a bunch of smart-ass wise-crackers, and you\\'re in for a good time. Have a brew, butter up some large pretzels, and enjoy.<br /><br />Of course, obtaining a copy requires buying a bootleg or downloading it as shareware, but if you\\'re here on the IMDb, then you\\'re most likely savvy enough to do so. Good luck.<br /><br />And look for my favorite part....where Dr. Doom informs the FF that they have 12 hours to comply with his wishes....and he actually gestures the number \"12\" with his finger while doing so....it\\'s like \"Evil Sesame Street\"....hoo boy.<br /><br />...and of course Mrs. Storm declaring \"Just look at you....the Fanstastic Four\" is just so heartwarming....you\\'ll laugh, you\\'ll cry.....<br /><br />So if you love schlocky Sci-Fi, this one\\'s Fantastic For you!', shape=(), dtype=string)\n",
            "0.81351286\n",
            "\n",
            "tf.Tensor(b\"Every great once in a while, you stumble upon a movie that exceeds even your wildest expectations. Given the IMDb rating of 4.0, I wasn't really expecting much with The Brotherhood of Satan. I hoped that at a minimum it might be cheesy fun like The Devil's Rain or any of the other early 70s similarly themed Satanic horror films. I couldn't' have been more wrong. What I got instead was an ambitious and intelligent film with a cast I really enjoyed. Speaking in broad terms to avoid giving anything away, the film's style and structure are much more experimental than the straightforward storytelling so prominent in the early 70s. The Brotherhood of Satan doesn't beat you over the head with plot points and explanations. A lot is left to the viewer to fill in the blanks. As a viewer, you know something is amiss, but for the longest period you're just not sure what it is. The unknown helps make for a far creepier atmosphere than most similar films. The ending is effective with its surreal imagery. I sat in amazement as the final credits began to roll. Those wanting a big slam-bang finale will be disappointed with the ending's simplicity. A lesser film would have tried to pull out all the stops and would, most likely, have failed miserably.<br /><br />There are moments in the film where it's easy to forget the director, Bernard McEveety, had primarily worked in television before The Brotherhood of Satan. There are a few scenes that are so well set-up, lit, and shot that even the most accomplished of directors could learn a thing or two. For example, I've seen enough films over the years to realize that directors can sometimes seem to have trouble shooting widescreen shots indoors. Not here. The scene where the men are discussing their plan of action in the sheriff's office is amazing. We see all five men at once \\xc2\\x96 each doing their own thing as in real life. In a lesser film, we might see all the men at once, but each would be motionless, quietly waiting their turn to deliver their dialogue. It's a small scene, but it looks so natural and is so beautifully shot that it's one of my favorite moments of The Brotherhood of Satan.<br /><br />Finally, I mentioned the acting in my opening, so without going into a long-winded speech, I'll just say that The Brotherhood of Satan features Strother Martin and L.Q. Jones. Any film with these two guys is almost an automatic winner with me.\", shape=(), dtype=string)\n",
            "0.37898898\n",
            "\n"
          ]
        }
      ],
      "source": [
        "for i,val in enumerate(reviews_test.take(10)):\n",
        "  print(val[0])\n",
        "  print(prediction[i][0])\n",
        "  print()"
      ]
    },
    {
      "cell_type": "markdown",
      "metadata": {
        "colab_type": "text",
        "id": "nlc4tsBbMNdw"
      },
      "source": [
        "\n",
        "Copyright 2020 Google Inc. Licensed under the Apache License, Version 2.0 (the \"License\"); you may not use this file except in compliance with the License. You may obtain a copy of the License at http://www.apache.org/licenses/LICENSE-2.0 Unless required by applicable law or agreed to in writing, software distributed under the License is distributed on an \"AS IS\" BASIS, WITHOUT WARRANTIES OR CONDITIONS OF ANY KIND, either express or implied. See the License for the specific language governing permissions and limitations under the License"
      ]
    },
    {
      "cell_type": "markdown",
      "metadata": {},
      "source": []
    }
  ],
  "metadata": {
    "accelerator": "GPU",
    "colab": {
      "collapsed_sections": [],
      "name": "transfer_learning.ipynb",
      "provenance": []
    },
    "kernelspec": {
      "display_name": "Python 3",
      "name": "python3"
    },
    "language_info": {
      "codemirror_mode": {
        "name": "ipython",
        "version": 3
      },
      "file_extension": ".py",
      "mimetype": "text/x-python",
      "name": "python",
      "nbconvert_exporter": "python",
      "pygments_lexer": "ipython3",
      "version": "3.8.12"
    }
  },
  "nbformat": 4,
  "nbformat_minor": 0
}
