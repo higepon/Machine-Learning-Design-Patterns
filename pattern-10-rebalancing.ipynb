{
 "cells": [
  {
   "cell_type": "code",
   "execution_count": 1,
   "metadata": {},
   "outputs": [],
   "source": [
    "# Based on https://github.com/GoogleCloudPlatform/ml-design-patterns/blob/master/03_problem_representation/rebalancing.ipynb.\n",
    "#   !gsutil cp gs://ml-design-patterns/fraud_data_kaggle.csv .\n",
    "\n",
    "import xgboost as xgb\n",
    "import pandas as pd\n",
    "import numpy as np\n",
<<<<<<< HEAD
    "import itertools\n",
    "import matplotlib.pyplot as plt\n",
=======
>>>>>>> 5dd6fcda0007ea07e8232ff57fea51f6d35c3bbd
    "from sklearn.metrics import confusion_matrix\n",
    "from sklearn.metrics import f1_score\n",
    "from sklearn.model_selection import train_test_split\n",
    "from sklearn.utils import shuffle"
   ]
  },
  {
   "cell_type": "code",
   "execution_count": 2,
   "metadata": {},
   "outputs": [],
   "source": [
<<<<<<< HEAD
    "# TODO\n",
    "#  conufion matrix\n",
    "#  refactoring\n",
=======
>>>>>>> 5dd6fcda0007ea07e8232ff57fea51f6d35c3bbd
    "\n",
    "SEED = 42\n",
    "NROWS = 100000 \n",
    "\n",
    "def process_data(df: pd.DataFrame) -> pd.DataFrame:\n",
    "    df.drop(columns=['nameOrig', 'nameDest', 'isFlaggedFraud'], inplace=True)\n",
    "    df = pd.get_dummies(df)\n",
    "    return df\n",
    "\n",
    "def fraud_rate_df(df: pd.DataFrame) -> float:\n",
    "    fraud_df = df[df['isFraud'] == 1]\n",
    "    return len(fraud_df)/len(df)\n",
    "\n",
    "def fraud_rate(y) -> float:\n",
    "    fraud_indices = np.where(y == 1)[0]\n",
    "    return len(fraud_indices) / len(y) # type: ignore\n",
    "\n",
    "def train_split(df: pd.DataFrame):\n",
    "    y = df.isFraud.values\n",
    "    X_train, X_test, _, y_test = train_test_split(df, y, stratify=y, test_size=0.2, random_state=SEED)\n",
    "    train_df = pd.DataFrame(data=X_train, columns=df.columns)\n",
    "    X_test.drop(columns=['isFraud'], inplace=True) # type: ignore\n",
    "    return train_df, X_test, y_test\n",
    "\n",
<<<<<<< HEAD
    "# This is from the sklearn docs\n",
    "# https://scikit-learn.org/0.18/auto_examples/model_selection/plot_confusion_matrix.html\n",
    "def plot_confusion_matrix(cm, classes,\n",
    "                          normalize=False,\n",
    "                          title='Confusion matrix',\n",
    "                          cmap=plt.cm.Blues):\n",
    "    \"\"\"\n",
    "    This function prints and plots the confusion matrix.\n",
    "    Normalization can be applied by setting `normalize=True`.\n",
    "    \"\"\"\n",
    "    plt.imshow(cm, interpolation='nearest', cmap=cmap)\n",
    "    plt.title(title)\n",
    "    plt.colorbar()\n",
    "    tick_marks = np.arange(len(classes))\n",
    "    plt.xticks(tick_marks, classes, rotation=45)\n",
    "    plt.yticks(tick_marks, classes)\n",
    "\n",
    "    if normalize:\n",
    "        cm = np.round(cm.astype('float') / cm.sum(axis=1)[:, np.newaxis], 3)\n",
    "\n",
    "    for i, j in itertools.product(range(cm.shape[0]), range(cm.shape[1])):\n",
    "        plt.text(j, i, cm[i, j],\n",
    "                 horizontalalignment=\"center\",\n",
    "                 color=\"black\")\n",
    "\n",
    "    plt.tight_layout()\n",
    "    plt.ylabel('True label')\n",
    "    plt.xlabel('Predicted label')\n",
    "\n",
    "def train_and_eval(df: pd.DataFrame, should_down_sample: bool=False, frac: float=1.0):\n",
=======
    "\n",
    "def down_sample(df: pd.DataFrame):\n",
    "    fraud = df[df['isFraud'] == 1]\n",
    "    not_fraud = df[df['isFraud'] == 0]\n",
    "\n",
    "    not_fraud_sample = not_fraud.sample(random_state=SEED, frac=.005)    \n",
    "    downsampled_df = pd.concat([not_fraud_sample, fraud])\n",
    "    return shuffle(downsampled_df, random_state=SEED)    \n",
    "\n",
    "def train(df: pd.DataFrame):\n",
    "    print(\"#\" * 80 )\n",
    "    print(\"#     Normal train\")\n",
    "    train_df, X_test, y_test = train_split(df)\n",
    "    X_train = train_df.drop(columns=['isFraud']).values\n",
    "    y_train = train_df.isFraud.values\n",
    "\n",
    "    print(f'#\\n#     Fraud Rate in (all, train, test)=({fraud_rate_df(df):.5f}, {fraud_rate(y_train):.5f}, {fraud_rate(y_test):.5f})')\n",
    "\n",
    "    model = xgb.XGBRegressor(objective='reg:squarederror', seed=SEED)\n",
    "    model.fit(X_train, y_train)\n",
    "\n",
    "    y_pred = model.predict(X_test)\n",
    "    y_pred_formatted = []\n",
    "\n",
    "    for i in y_pred.tolist():\n",
    "        y_pred_formatted.append(int(round(i)))\n",
    "    print(f'#      f1: {f1_score(y_test, y_pred_formatted)}:.2f')\n",
    "    cm = confusion_matrix(y_test, y_pred_formatted)\n",
    "    print(f'#     {cm}')\n",
    "\n",
    "def train_down_sample(df: pd.DataFrame, frac: float):\n",
    "    print(f\"#\" * 80 )\n",
    "    print(f\"#     Down sample train {frac}\")\n",
    "\n",
    "    train_df, X_test, y_test = train_split(df)\n",
    "\n",
    "    # down_sample\n",
    "    fraud = train_df[train_df['isFraud'] == 1]\n",
    "    not_fraud = train_df[train_df['isFraud'] == 0]\n",
    "    not_fraud_sample = not_fraud.sample(random_state=SEED, frac=frac)\n",
    "    train_df = pd.concat([not_fraud_sample,fraud])\n",
    "    train_df = shuffle(train_df, random_state=SEED)    \n",
    "\n",
    "    X_train = train_df.drop(columns=['isFraud']).values\n",
    "    y_train = train_df.isFraud.values\n",
    "\n",
    "    print(f'#\\n#     Fraud Rate in (all, train, test)=({fraud_rate_df(df):.5f}, {fraud_rate(y_train):.5f}, {fraud_rate(y_test):.5f})')\n",
    "\n",
    "    model = xgb.XGBClassifier()#    model = xgb.XGBRegressor(objective='reg:squarederror', seed=SEED)\n",
    "    model.fit(X_train, y_train)\n",
    "\n",
    "    y_pred = model.predict(X_test)\n",
    "\n",
    "    y_pred_formatted = []\n",
    "\n",
    "    #for i in y_pred.tolist():\n",
    "    #    y_pred_formatted.append(int(round(i)))\n",
    "\n",
    "    print(f'#      f1: {f1_score(y_test, y_pred)}:.2f')\n",
    "    cm = confusion_matrix(y_test, y_pred)\n",
    "    print(f'#     {cm}')\n",
    "\n",
    "def train_down_sample2(df: pd.DataFrame, frac: float):\n",
    "    print(f\"#\" * 80 )\n",
    "    print(f\"#     Down sample train {frac}\")\n",
>>>>>>> 5dd6fcda0007ea07e8232ff57fea51f6d35c3bbd
    "\n",
    "    train_df, X_test, y_test = train_split(df)\n",
    "\n",
    "    # down_sample\n",
<<<<<<< HEAD
    "    if should_down_sample:\n",
    "        print(f\"Down sample train {frac}\")\n",
    "        fraud = train_df[train_df['isFraud'] == 1]\n",
    "        not_fraud = train_df[train_df['isFraud'] == 0]\n",
    "        not_fraud_sample = not_fraud.sample(random_state=SEED, frac=frac)\n",
    "        train_df = pd.concat([not_fraud_sample,fraud])\n",
    "        train_df = shuffle(train_df, random_state=SEED)    \n",
    "    else:\n",
    "        print(\"Original train\")\n",
=======
    "    fraud = train_df[train_df['isFraud'] == 1]\n",
    "    not_fraud = train_df[train_df['isFraud'] == 0]\n",
    "    not_fraud_sample = not_fraud.sample(random_state=SEED, frac=frac)\n",
    "    train_df = pd.concat([not_fraud_sample,fraud])\n",
    "    train_df = shuffle(train_df, random_state=SEED)    \n",
>>>>>>> 5dd6fcda0007ea07e8232ff57fea51f6d35c3bbd
    "\n",
    "    X_train = train_df.drop(columns=['isFraud']).values\n",
    "    y_train = train_df.isFraud.values\n",
    "\n",
<<<<<<< HEAD
    "    print(f'Fraud Rate in (all, train, test)=({fraud_rate_df(df):.5f}, {fraud_rate(y_train):.5f}, {fraud_rate(y_test):.5f})')\n",
=======
    "    print(f'#\\n#     Fraud Rate in (all, train, test)=({fraud_rate_df(df):.5f}, {fraud_rate(y_train):.5f}, {fraud_rate(y_test):.5f})')\n",
>>>>>>> 5dd6fcda0007ea07e8232ff57fea51f6d35c3bbd
    "\n",
    "    model = xgb.XGBClassifier()\n",
    "    model.fit(X_train, y_train)\n",
    "\n",
    "    y_pred = model.predict(X_test)\n",
<<<<<<< HEAD
    "    print(y_pred)\n",
    "\n",
    "    print(f'f1_score: {f1_score(y_test, y_pred):.2f}')\n",
    "    cm = confusion_matrix(y_test, y_pred)\n",
    "    classes = ['not fraud', 'fraud']    \n",
    "    plot_confusion_matrix(cm, classes, normalize=True)    "
=======
    "\n",
    "    y_pred_formatted = []\n",
    "\n",
    "    print(f'#      f1: {f1_score(y_test, y_pred)}:.2f')\n",
    "    cm = confusion_matrix(y_test, y_pred)\n",
    "    print(f'#     {cm}')\n",
    "\n"
>>>>>>> 5dd6fcda0007ea07e8232ff57fea51f6d35c3bbd
   ]
  },
  {
   "cell_type": "code",
   "execution_count": 3,
   "metadata": {},
   "outputs": [
    {
     "data": {
      "text/html": [
       "<div>\n",
       "<style scoped>\n",
       "    .dataframe tbody tr th:only-of-type {\n",
       "        vertical-align: middle;\n",
       "    }\n",
       "\n",
       "    .dataframe tbody tr th {\n",
       "        vertical-align: top;\n",
       "    }\n",
       "\n",
       "    .dataframe thead th {\n",
       "        text-align: right;\n",
       "    }\n",
       "</style>\n",
       "<table border=\"1\" class=\"dataframe\">\n",
       "  <thead>\n",
       "    <tr style=\"text-align: right;\">\n",
       "      <th></th>\n",
       "      <th>step</th>\n",
       "      <th>amount</th>\n",
       "      <th>oldbalanceOrg</th>\n",
       "      <th>newbalanceOrig</th>\n",
       "      <th>oldbalanceDest</th>\n",
       "      <th>newbalanceDest</th>\n",
       "      <th>isFraud</th>\n",
       "      <th>type_CASH_IN</th>\n",
       "      <th>type_CASH_OUT</th>\n",
       "      <th>type_DEBIT</th>\n",
       "      <th>type_PAYMENT</th>\n",
       "      <th>type_TRANSFER</th>\n",
       "    </tr>\n",
       "  </thead>\n",
       "  <tbody>\n",
       "    <tr>\n",
       "      <th>0</th>\n",
       "      <td>1</td>\n",
       "      <td>9839.64</td>\n",
       "      <td>170136.0</td>\n",
       "      <td>160296.36</td>\n",
       "      <td>0.0</td>\n",
       "      <td>0.0</td>\n",
       "      <td>0</td>\n",
       "      <td>0</td>\n",
       "      <td>0</td>\n",
       "      <td>0</td>\n",
       "      <td>1</td>\n",
       "      <td>0</td>\n",
       "    </tr>\n",
       "    <tr>\n",
       "      <th>1</th>\n",
       "      <td>1</td>\n",
       "      <td>1864.28</td>\n",
       "      <td>21249.0</td>\n",
       "      <td>19384.72</td>\n",
       "      <td>0.0</td>\n",
       "      <td>0.0</td>\n",
       "      <td>0</td>\n",
       "      <td>0</td>\n",
       "      <td>0</td>\n",
       "      <td>0</td>\n",
       "      <td>1</td>\n",
       "      <td>0</td>\n",
       "    </tr>\n",
       "    <tr>\n",
       "      <th>2</th>\n",
       "      <td>1</td>\n",
       "      <td>181.00</td>\n",
       "      <td>181.0</td>\n",
       "      <td>0.00</td>\n",
       "      <td>0.0</td>\n",
       "      <td>0.0</td>\n",
       "      <td>1</td>\n",
       "      <td>0</td>\n",
       "      <td>0</td>\n",
       "      <td>0</td>\n",
       "      <td>0</td>\n",
       "      <td>1</td>\n",
       "    </tr>\n",
       "    <tr>\n",
       "      <th>3</th>\n",
       "      <td>1</td>\n",
       "      <td>181.00</td>\n",
       "      <td>181.0</td>\n",
       "      <td>0.00</td>\n",
       "      <td>21182.0</td>\n",
       "      <td>0.0</td>\n",
       "      <td>1</td>\n",
       "      <td>0</td>\n",
       "      <td>1</td>\n",
       "      <td>0</td>\n",
       "      <td>0</td>\n",
       "      <td>0</td>\n",
       "    </tr>\n",
       "    <tr>\n",
       "      <th>4</th>\n",
       "      <td>1</td>\n",
       "      <td>11668.14</td>\n",
       "      <td>41554.0</td>\n",
       "      <td>29885.86</td>\n",
       "      <td>0.0</td>\n",
       "      <td>0.0</td>\n",
       "      <td>0</td>\n",
       "      <td>0</td>\n",
       "      <td>0</td>\n",
       "      <td>0</td>\n",
       "      <td>1</td>\n",
       "      <td>0</td>\n",
       "    </tr>\n",
       "  </tbody>\n",
       "</table>\n",
       "</div>"
      ],
      "text/plain": [
       "   step    amount  oldbalanceOrg  newbalanceOrig  oldbalanceDest  \\\n",
       "0     1   9839.64       170136.0       160296.36             0.0   \n",
       "1     1   1864.28        21249.0        19384.72             0.0   \n",
       "2     1    181.00          181.0            0.00             0.0   \n",
       "3     1    181.00          181.0            0.00         21182.0   \n",
       "4     1  11668.14        41554.0        29885.86             0.0   \n",
       "\n",
       "   newbalanceDest  isFraud  type_CASH_IN  type_CASH_OUT  type_DEBIT  \\\n",
       "0             0.0        0             0              0           0   \n",
       "1             0.0        0             0              0           0   \n",
       "2             0.0        1             0              0           0   \n",
       "3             0.0        1             0              1           0   \n",
       "4             0.0        0             0              0           0   \n",
       "\n",
       "   type_PAYMENT  type_TRANSFER  \n",
       "0             1              0  \n",
       "1             1              0  \n",
       "2             0              1  \n",
       "3             0              0  \n",
       "4             1              0  "
      ]
     },
     "execution_count": 3,
     "metadata": {},
     "output_type": "execute_result"
    }
   ],
   "source": [
    "df = pd.read_csv('/kaggle/input/fraud_data_kaggle.csv', nrows=NROWS)\n",
    "df = process_data(df)\n",
    "df.head()"
   ]
  },
  {
   "cell_type": "code",
<<<<<<< HEAD
   "execution_count": 4,
   "metadata": {},
   "outputs": [
    {
     "name": "stdout",
     "output_type": "stream",
     "text": [
      "Original train\n",
      "Fraud Rate in (all, train, test)=(0.00116, 0.00116, 0.00115)\n",
      "[0 0 0 ... 0 0 0]\n",
      "f1_score: 0.82\n"
     ]
    },
    {
     "data": {
      "image/png": "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",
      "text/plain": [
       "<Figure size 432x288 with 2 Axes>"
      ]
     },
     "metadata": {
      "needs_background": "light"
     },
     "output_type": "display_data"
    }
   ],
   "source": [
    "train_and_eval(df)"
   ]
  },
  {
   "cell_type": "code",
   "execution_count": 10,
   "metadata": {},
   "outputs": [
    {
     "name": "stdout",
     "output_type": "stream",
     "text": [
      "Down sample train 0.0001\n",
      "Fraud Rate in (all, train, test)=(0.00116, 0.92079, 0.00115)\n",
      "[1 0 1 ... 0 1 1]\n",
      "f1_score: 0.00\n"
     ]
    },
    {
     "data": {
      "image/png": "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",
      "text/plain": [
       "<Figure size 432x288 with 2 Axes>"
      ]
     },
     "metadata": {
      "needs_background": "light"
     },
     "output_type": "display_data"
    }
   ],
   "source": [
    "train_and_eval(df, should_down_sample=True, frac=0.0001)"
   ]
  },
  {
   "cell_type": "code",
   "execution_count": 11,
   "metadata": {},
   "outputs": [
    {
     "name": "stdout",
     "output_type": "stream",
     "text": [
      "Down sample train 0.005\n",
      "Fraud Rate in (all, train, test)=(0.00116, 0.18864, 0.00115)\n",
      "[0 0 0 ... 0 0 0]\n",
      "f1_score: 0.14\n"
     ]
    },
    {
     "data": {
      "image/png": "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",
      "text/plain": [
       "<Figure size 432x288 with 2 Axes>"
      ]
     },
     "metadata": {
      "needs_background": "light"
     },
     "output_type": "display_data"
    }
   ],
   "source": [
    "train_and_eval(df, should_down_sample=True, frac=0.005)"
   ]
  },
  {
   "cell_type": "code",
   "execution_count": 12,
   "metadata": {},
   "outputs": [
    {
     "name": "stdout",
     "output_type": "stream",
     "text": [
      "Down sample train 0.001\n",
      "Fraud Rate in (all, train, test)=(0.00116, 0.53757, 0.00115)\n",
      "[0 0 0 ... 0 0 0]\n",
      "f1_score: 0.02\n"
     ]
    },
    {
     "data": {
      "image/png": "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",
      "text/plain": [
       "<Figure size 432x288 with 2 Axes>"
      ]
     },
     "metadata": {
      "needs_background": "light"
     },
     "output_type": "display_data"
    }
   ],
   "source": [
    "train_and_eval(df, should_down_sample=True, frac=0.001)"
   ]
  },
  {
   "cell_type": "code",
   "execution_count": null,
   "metadata": {},
   "outputs": [],
   "source": []
  },
  {
   "cell_type": "code",
   "execution_count": null,
   "metadata": {},
   "outputs": [],
   "source": []
=======
   "execution_count": null,
   "metadata": {},
   "outputs": [],
   "source": [
    "\n",
    "train(df)\n",
    "for frac in [0.0001, 0.0005, 0.001, 0.005, 0.010]:\n",
    "    train_down_sample2(df, frac)\n"
   ]
>>>>>>> 5dd6fcda0007ea07e8232ff57fea51f6d35c3bbd
  }
 ],
 "metadata": {
  "interpreter": {
   "hash": "e3016a69a89dee9b7d8dac3f319d8da612944bcbf5c351334eed207492b9bff5"
  },
  "kernelspec": {
   "display_name": "Python 3.8.12 64-bit ('kaggle-vent': conda)",
   "language": "python",
   "name": "python3"
  },
  "language_info": {
   "codemirror_mode": {
    "name": "ipython",
    "version": 3
   },
   "file_extension": ".py",
   "mimetype": "text/x-python",
   "name": "python",
   "nbconvert_exporter": "python",
   "pygments_lexer": "ipython3",
   "version": "3.8.12"
  },
  "orig_nbformat": 4
 },
 "nbformat": 4,
 "nbformat_minor": 2
}
