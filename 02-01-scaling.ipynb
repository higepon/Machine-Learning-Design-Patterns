{
 "cells": [
  {
   "cell_type": "code",
   "execution_count": 1,
   "id": "443c7757",
   "metadata": {
    "_cell_guid": "b1076dfc-b9ad-4769-8c92-a6c4dae69d19",
    "_uuid": "8f2839f25d086af736a60e9eeb907d3b93b6e0e5",
    "execution": {
     "iopub.execute_input": "2021-11-23T00:38:19.734245Z",
     "iopub.status.busy": "2021-11-23T00:38:19.732780Z",
     "iopub.status.idle": "2021-11-23T00:38:30.710525Z",
     "shell.execute_reply": "2021-11-23T00:38:30.711116Z",
     "shell.execute_reply.started": "2021-11-23T00:24:18.900837Z"
    },
    "papermill": {
     "duration": 10.991441,
     "end_time": "2021-11-23T00:38:30.711445",
     "exception": false,
     "start_time": "2021-11-23T00:38:19.720004",
     "status": "completed"
    },
    "tags": []
   },
   "outputs": [
    {
     "data": {
      "text/html": [
       "<div>\n",
       "<style scoped>\n",
       "    .dataframe tbody tr th:only-of-type {\n",
       "        vertical-align: middle;\n",
       "    }\n",
       "\n",
       "    .dataframe tbody tr th {\n",
       "        vertical-align: top;\n",
       "    }\n",
       "\n",
       "    .dataframe thead th {\n",
       "        text-align: right;\n",
       "    }\n",
       "</style>\n",
       "<table border=\"1\" class=\"dataframe\">\n",
       "  <thead>\n",
       "    <tr style=\"text-align: right;\">\n",
       "      <th></th>\n",
       "      <th>id</th>\n",
       "      <th>breath_id</th>\n",
       "      <th>R</th>\n",
       "      <th>C</th>\n",
       "      <th>time_step</th>\n",
       "      <th>u_in</th>\n",
       "      <th>u_out</th>\n",
       "      <th>pressure</th>\n",
       "    </tr>\n",
       "  </thead>\n",
       "  <tbody>\n",
       "    <tr>\n",
       "      <th>0</th>\n",
       "      <td>1</td>\n",
       "      <td>1</td>\n",
       "      <td>20</td>\n",
       "      <td>50</td>\n",
       "      <td>0.000000</td>\n",
       "      <td>0.083334</td>\n",
       "      <td>0</td>\n",
       "      <td>5.837492</td>\n",
       "    </tr>\n",
       "    <tr>\n",
       "      <th>1</th>\n",
       "      <td>2</td>\n",
       "      <td>1</td>\n",
       "      <td>20</td>\n",
       "      <td>50</td>\n",
       "      <td>0.033652</td>\n",
       "      <td>18.383041</td>\n",
       "      <td>0</td>\n",
       "      <td>5.907794</td>\n",
       "    </tr>\n",
       "    <tr>\n",
       "      <th>2</th>\n",
       "      <td>3</td>\n",
       "      <td>1</td>\n",
       "      <td>20</td>\n",
       "      <td>50</td>\n",
       "      <td>0.067514</td>\n",
       "      <td>22.509278</td>\n",
       "      <td>0</td>\n",
       "      <td>7.876254</td>\n",
       "    </tr>\n",
       "    <tr>\n",
       "      <th>3</th>\n",
       "      <td>4</td>\n",
       "      <td>1</td>\n",
       "      <td>20</td>\n",
       "      <td>50</td>\n",
       "      <td>0.101542</td>\n",
       "      <td>22.808822</td>\n",
       "      <td>0</td>\n",
       "      <td>11.742872</td>\n",
       "    </tr>\n",
       "    <tr>\n",
       "      <th>4</th>\n",
       "      <td>5</td>\n",
       "      <td>1</td>\n",
       "      <td>20</td>\n",
       "      <td>50</td>\n",
       "      <td>0.135756</td>\n",
       "      <td>25.355850</td>\n",
       "      <td>0</td>\n",
       "      <td>12.234987</td>\n",
       "    </tr>\n",
       "  </tbody>\n",
       "</table>\n",
       "</div>"
      ],
      "text/plain": [
       "   id  breath_id   R   C  time_step       u_in  u_out   pressure\n",
       "0   1          1  20  50   0.000000   0.083334      0   5.837492\n",
       "1   2          1  20  50   0.033652  18.383041      0   5.907794\n",
       "2   3          1  20  50   0.067514  22.509278      0   7.876254\n",
       "3   4          1  20  50   0.101542  22.808822      0  11.742872\n",
       "4   5          1  20  50   0.135756  25.355850      0  12.234987"
      ]
     },
     "execution_count": 1,
     "metadata": {},
     "output_type": "execute_result"
    }
   ],
   "source": [
    "import numpy as np\n",
    "import pandas as pd\n",
    "import scipy\n",
    "from pathlib import Path\n",
    "from matplotlib import pyplot as plt\n",
    "import seaborn as sns; sns.set()\n",
    "%matplotlib inline\n",
    "\n",
    "data_dir = Path('/kaggle/input/ventilator-pressure-prediction')\n",
    "\n",
    "train_df = pd.read_csv(data_dir / 'train.csv')\n",
    "train_df.head()"
   ]
  },
  {
   "cell_type": "markdown",
   "id": "91be3354",
   "metadata": {
    "papermill": {
     "duration": 0.006349,
     "end_time": "2021-11-23T00:38:30.726034",
     "exception": false,
     "start_time": "2021-11-23T00:38:30.719685",
     "status": "completed"
    },
    "tags": []
   },
   "source": [
    "## Pressure distribution as is\n",
    "It's skewed around 5-10."
   ]
  },
  {
   "cell_type": "code",
   "execution_count": 2,
   "id": "7ce5377d",
   "metadata": {
    "execution": {
     "iopub.execute_input": "2021-11-23T00:38:31.130486Z",
     "iopub.status.busy": "2021-11-23T00:38:31.103964Z",
     "iopub.status.idle": "2021-11-23T00:38:36.848359Z",
     "shell.execute_reply": "2021-11-23T00:38:36.848894Z",
     "shell.execute_reply.started": "2021-11-23T00:06:46.896903Z"
    },
    "papermill": {
     "duration": 6.116476,
     "end_time": "2021-11-23T00:38:36.849097",
     "exception": false,
     "start_time": "2021-11-23T00:38:30.732621",
     "status": "completed"
    },
    "tags": []
   },
   "outputs": [
    {
     "data": {
      "image/png": "[encoded data removed]",
      "text/plain": [
       "<Figure size 432x288 with 1 Axes>"
      ]
     },
     "metadata": {
      "needs_background": "light"
     },
     "output_type": "display_data"
    }
   ],
   "source": [
    "sns.histplot(train_df.pressure, bins=13, color='#123456', label='data')\n",
    "plt.legend()\n",
    "plt.show()"
   ]
  },
  {
   "cell_type": "markdown",
   "id": "bcc493e7",
   "metadata": {
    "papermill": {
     "duration": 0.007422,
     "end_time": "2021-11-23T00:38:36.867088",
     "exception": false,
     "start_time": "2021-11-23T00:38:36.859666",
     "status": "completed"
    },
    "tags": []
   },
   "source": [
    "## Pressure distribution (Logarithm + Power)\n",
    "We can transoform the data into bellcurve like shape."
   ]
  },
  {
   "cell_type": "code",
   "execution_count": 3,
   "id": "933dff9c",
   "metadata": {
    "execution": {
     "iopub.execute_input": "2021-11-23T00:38:36.889865Z",
     "iopub.status.busy": "2021-11-23T00:38:36.888938Z",
     "iopub.status.idle": "2021-11-23T00:38:43.480169Z",
     "shell.execute_reply": "2021-11-23T00:38:43.480727Z",
     "shell.execute_reply.started": "2021-11-23T00:20:01.604220Z"
    },
    "papermill": {
     "duration": 6.606356,
     "end_time": "2021-11-23T00:38:43.480960",
     "exception": false,
     "start_time": "2021-11-23T00:38:36.874604",
     "status": "completed"
    },
    "tags": []
   },
   "outputs": [
    {
     "name": "stderr",
     "output_type": "stream",
     "text": [
      "/opt/conda/lib/python3.7/site-packages/pandas/core/arraylike.py:364: RuntimeWarning: invalid value encountered in log10\n",
      "  result = getattr(ufunc, method)(*inputs, **kwargs)\n"
     ]
    },
    {
     "data": {
      "image/png": "[encoded data removed]",
      "text/plain": [
       "<Figure size 432x288 with 1 Axes>"
      ]
     },
     "metadata": {
      "needs_background": "light"
     },
     "output_type": "display_data"
    }
   ],
   "source": [
    "sns.histplot(np.power(np.log10(train_df.pressure), 0.5), bins=10, color='#123456', label='data')\n",
    "plt.legend()\n",
    "plt.show()"
   ]
  },
  {
   "cell_type": "markdown",
   "id": "3c8b368f",
   "metadata": {
    "papermill": {
     "duration": 0.008733,
     "end_time": "2021-11-23T00:38:43.498377",
     "exception": false,
     "start_time": "2021-11-23T00:38:43.489644",
     "status": "completed"
    },
    "tags": []
   },
   "source": [
    "## Pressure distribution (Box-Cox)"
   ]
  },
  {
   "cell_type": "code",
   "execution_count": 4,
   "id": "9c6a11d7",
   "metadata": {
    "execution": {
     "iopub.execute_input": "2021-11-23T00:38:43.520071Z",
     "iopub.status.busy": "2021-11-23T00:38:43.519304Z",
     "iopub.status.idle": "2021-11-23T00:39:08.726662Z",
     "shell.execute_reply": "2021-11-23T00:39:08.726128Z",
     "shell.execute_reply.started": "2021-11-23T00:36:50.874580Z"
    },
    "papermill": {
     "duration": 25.219772,
     "end_time": "2021-11-23T00:39:08.726817",
     "exception": false,
     "start_time": "2021-11-23T00:38:43.507045",
     "status": "completed"
    },
    "tags": []
   },
   "outputs": [
    {
     "data": {
      "image/png": "[encoded data removed]",
      "text/plain": [
       "<Figure size 432x288 with 1 Axes>"
      ]
     },
     "metadata": {
      "needs_background": "light"
     },
     "output_type": "display_data"
    }
   ],
   "source": [
    "# boxcox accepts only positive values.\n",
    "positive_pressures = train_df[train_df.pressure >= 0].pressure\n",
    "boxcox_pressure, _ = (scipy.stats.boxcox(positive_pressures))\n",
    "p_min = min(boxcox_pressure)\n",
    "p_max = max(boxcox_pressure)\n",
    "sns.histplot(boxcox_pressure, color='#123456', label='data', binrange=[0.3, 3])\n",
    "plt.legend()\n",
    "plt.show()"
   ]
  }
 ],
 "metadata": {
  "kernelspec": {
   "display_name": "Python 3",
   "language": "python",
   "name": "python3"
  },
  "language_info": {
   "codemirror_mode": {
    "name": "ipython",
    "version": 3
   },
   "file_extension": ".py",
   "mimetype": "text/x-python",
   "name": "python",
   "nbconvert_exporter": "python",
   "pygments_lexer": "ipython3",
   "version": "3.7.10"
  },
  "papermill": {
   "default_parameters": {},
   "duration": 61.364433,
   "end_time": "2021-11-23T00:39:09.752407",
   "environment_variables": {},
   "exception": null,
   "input_path": "__notebook__.ipynb",
   "output_path": "__notebook__.ipynb",
   "parameters": {},
   "start_time": "2021-11-23T00:38:08.387974",
   "version": "2.3.3"
  }
 },
 "nbformat": 4,
 "nbformat_minor": 5
}
